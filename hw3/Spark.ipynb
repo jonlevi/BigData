{
 "cells": [
  {
   "cell_type": "markdown",
   "metadata": {},
   "source": [
    "# Starting point for Spark on Google Cloud"
   ]
  },
  {
   "cell_type": "code",
   "execution_count": 1,
   "metadata": {},
   "outputs": [],
   "source": [
    "from pyspark.sql.types import *\n",
    "import pyspark.sql.functions as F"
   ]
  },
  {
   "cell_type": "markdown",
   "metadata": {},
   "source": [
    "## Step 2.3"
   ]
  },
  {
   "cell_type": "code",
   "execution_count": 4,
   "metadata": {},
   "outputs": [],
   "source": [
    "# TODO: read files, load graph_sdf, etc.\n",
    "c2a_sdf = spark.read.format(\"com.databricks.spark.csv\").option(\"delimiter\", ' ')\\\n",
    "    .load(\"gs://fix-bucket/notebooks/sx-stackoverflow-c2a.txt\")\\\n",
    "    .selectExpr(\"cast(_c0 as int) as from_node\", \"cast(_c1 as int) as to_node\")\n",
    "    \n",
    "    \n",
    "    \n",
    "c2q_sdf = spark.read.format(\"com.databricks.spark.csv\").option(\"delimiter\", ' ')\\\n",
    "    .load(\"gs://fix-bucket/notebooks/sx-stackoverflow-c2q.txt\")\\\n",
    "    .selectExpr(\"cast(_c0 as int) as from_node\", \"cast(_c1 as int) as to_node\")\n",
    "    \n",
    "a2q_sdf = spark.read.format(\"com.databricks.spark.csv\").option(\"delimiter\", ' ')\\\n",
    "    .load(\"gs://fix-bucket/notebooks/sx-stackoverflow-a2q.txt\")\\\n",
    "    .selectExpr(\"cast(_c0 as int) as from_node\", \"cast(_c1 as int) as to_node\")\n",
    "    \n",
    "graph_sdf = c2a_sdf.union(c2q_sdf).union(a2q_sdf)"
   ]
  },
  {
   "cell_type": "code",
   "execution_count": 5,
   "metadata": {},
   "outputs": [],
   "source": [
    "# def transitive_closure(graph_sdf, origins_sdf, depth):\n",
    "#     graph_sdf.cache()\n",
    "#     graph_sdf.createOrReplaceTempView('graph')\n",
    "#     origins_sdf.createOrReplaceTempView('origins')\n",
    "#     result = spark.sql('SELECT * from origins')\n",
    "#     result.createOrReplaceTempView('result')\n",
    "#     frontiers = spark.sql('SELECT * from origins')\n",
    "    \n",
    "    \n",
    "#     for i in range(0, depth):\n",
    "#         frontiers.createOrReplaceTempView('frontiers')\n",
    "#         frontiers.cache()\n",
    "#         if (len(frontiers.take(1))==0):\n",
    "#             break\n",
    "#         frontiers = spark.sql('SELECT DISTINCT graph.to_node AS node'\\\n",
    "#         ' FROM frontiers LEFT JOIN graph ON frontiers.node=graph.from_node'\\\n",
    "#         ' WHERE graph.to_node NOT IN (SELECT * FROM result)').cache()\n",
    "#         frontiers.createOrReplaceTempView('frontiers')\n",
    "#         result = spark.sql('SELECT * from result UNION ALL SELECT * FROM frontiers').cache()\n",
    "#         result.createOrReplaceTempView('result')\n",
    "    \n",
    "    \n",
    "#     return result"
   ]
  },
  {
   "cell_type": "code",
   "execution_count": 10,
   "metadata": {},
   "outputs": [],
   "source": [
    "def transitive_closure2(graph_sdf, origins_sdf, depth):\n",
    "    \n",
    "\n",
    "        \n",
    "    graph_sdf.cache()\n",
    "    graph_sdf.createOrReplaceTempView('graph')\n",
    "    origins_sdf.createOrReplaceTempView('origins')\n",
    "    result = spark.sql('SELECT * from origins')\n",
    "    result.createOrReplaceTempView('result')\n",
    "    frontiers = spark.sql('SELECT * from origins')\n",
    "    \n",
    "    if (depth==0):\n",
    "            return spark.sql('SELECT node from result LIMIT 0')\n",
    "    \n",
    "    \n",
    "    for i in range(0, depth-1):\n",
    "        frontiers.createOrReplaceTempView('frontiers')\n",
    "        frontiers.cache()\n",
    "        if (len(frontiers.take(1))==0):\n",
    "            break\n",
    "        frontiers = spark.sql('SELECT DISTINCT to_node AS node'\\\n",
    "        ' FROM (SELECT graph.from_node, graph.to_node FROM frontiers LEFT JOIN graph'\\\n",
    "        ' ON frontiers.node=graph.from_node) as x'\\\n",
    "        ' ANTI JOIN result on x.to_node=result.node').cache()\n",
    "        frontiers.createOrReplaceTempView('frontiers')\n",
    "        result = spark.sql('SELECT * from result UNION ALL SELECT * FROM frontiers').cache()\n",
    "        result.createOrReplaceTempView('result')\n",
    "    \n",
    "    \n",
    "    return spark.sql('SELECT DISTINCT node FROM result')\n",
    "    "
   ]
  },
  {
   "cell_type": "code",
   "execution_count": 6,
   "metadata": {},
   "outputs": [
    {
     "name": "stdout",
     "output_type": "stream",
     "text": [
      "+----+\n",
      "|node|\n",
      "+----+\n",
      "|   1|\n",
      "|   3|\n",
      "|   5|\n",
      "|   4|\n",
      "|   2|\n",
      "+----+\n",
      "\n"
     ]
    }
   ],
   "source": [
    "# Compute nodes_sdf\n",
    "graph_sdf.createOrReplaceTempView('graph')\n",
    "nodes_sdf = spark.sql('SELECT DISTINCT from_node as node FROM graph WHERE from_node < 8').cache()\n",
    "nodes_sdf.show()"
   ]
  },
  {
   "cell_type": "code",
   "execution_count": null,
   "metadata": {},
   "outputs": [],
   "source": []
  },
  {
   "cell_type": "code",
   "execution_count": 8,
   "metadata": {},
   "outputs": [],
   "source": [
    "reachable_sdf = transitive_closure2(graph_sdf, nodes_sdf, 3).cache()"
   ]
  },
  {
   "cell_type": "markdown",
   "metadata": {},
   "source": [
    "## Step 2.3 Results"
   ]
  },
  {
   "cell_type": "code",
   "execution_count": 9,
   "metadata": {},
   "outputs": [
    {
     "data": {
      "text/plain": [
       "246212"
      ]
     },
     "execution_count": 9,
     "metadata": {},
     "output_type": "execute_result"
    }
   ],
   "source": [
    "reachable_sdf.count()"
   ]
  },
  {
   "cell_type": "code",
   "execution_count": 11,
   "metadata": {},
   "outputs": [
    {
     "name": "stdout",
     "output_type": "stream",
     "text": [
      "+------+\n",
      "|  node|\n",
      "+------+\n",
      "| 17389|\n",
      "|179115|\n",
      "|408870|\n",
      "|   148|\n",
      "|   463|\n",
      "|  1088|\n",
      "|  1238|\n",
      "|  1580|\n",
      "|  1591|\n",
      "|  1959|\n",
      "|  2122|\n",
      "|  2659|\n",
      "|  3175|\n",
      "|  4101|\n",
      "|  4900|\n",
      "|  6336|\n",
      "|  6466|\n",
      "|  7754|\n",
      "|  8638|\n",
      "|  9465|\n",
      "+------+\n",
      "only showing top 20 rows\n",
      "\n"
     ]
    }
   ],
   "source": [
    "reachable_sdf.show()"
   ]
  },
  {
   "cell_type": "code",
   "execution_count": null,
   "metadata": {},
   "outputs": [],
   "source": []
  },
  {
   "cell_type": "code",
   "execution_count": null,
   "metadata": {},
   "outputs": [],
   "source": []
  }
 ],
 "metadata": {
  "kernelspec": {
   "display_name": "PySpark",
   "language": "python",
   "name": "pyspark"
  },
  "language_info": {
   "codemirror_mode": {
    "name": "ipython",
    "version": 3
   },
   "file_extension": ".py",
   "mimetype": "text/x-python",
   "name": "python",
   "nbconvert_exporter": "python",
   "pygments_lexer": "ipython3",
   "version": "3.6.4"
  }
 },
 "nbformat": 4,
 "nbformat_minor": 1
}
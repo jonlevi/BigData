{
 "cells": [
  {
   "cell_type": "code",
   "execution_count": 1,
   "metadata": {},
   "outputs": [],
   "source": [
    "from pandas import read_csv\n",
    "from matplotlib import pyplot\n",
    "from sklearn.preprocessing import MinMaxScaler\n",
    "from sklearn.preprocessing import LabelEncoder\n",
    "from sklearn.metrics import mean_squared_error\n",
    "from pandas import read_csv\n",
    "from pandas import DataFrame\n",
    "from pandas import concat\n",
    "from numpy import concatenate"
   ]
  },
  {
   "cell_type": "code",
   "execution_count": 2,
   "metadata": {},
   "outputs": [],
   "source": [
    "# convert series to supervised learning\n",
    "def series_to_supervised(data, n_in=1, n_out=1, dropnan=True):\n",
    "    n_vars = 1 if type(data) is list else data.shape[1]\n",
    "    df = DataFrame(data)\n",
    "    cols, names = list(), list()\n",
    "    # input sequence (t-n, ... t-1)\n",
    "    for i in range(n_in, 0, -1):\n",
    "        cols.append(df.shift(i))\n",
    "        names += [('var%d(t-%d)' % (j+1, i)) for j in range(n_vars)]\n",
    "    # forecast sequence (t, t+1, ... t+n)\n",
    "    for i in range(0, n_out):\n",
    "        cols.append(df.shift(-i))\n",
    "        if i == 0:\n",
    "            names += [('var%d(t)' % (j+1)) for j in range(n_vars)]\n",
    "        else:\n",
    "            names += [('var%d(t+%d)' % (j+1, i)) for j in range(n_vars)]\n",
    "    # put it all together\n",
    "    agg = concat(cols, axis=1)\n",
    "    agg.columns = names\n",
    "    # drop rows with NaN values\n",
    "    if dropnan:\n",
    "        agg.dropna(inplace=True)\n",
    "    return agg"
   ]
  },
  {
   "cell_type": "code",
   "execution_count": 3,
   "metadata": {},
   "outputs": [
    {
     "name": "stdout",
     "output_type": "stream",
     "text": [
      "   var1(t-1)  var2(t-1)  var3(t-1)  var4(t-1)  var5(t-1)  var6(t-1)  \\\n",
      "1   0.129779   0.352941   0.245902   0.527273   0.666667   0.002290   \n",
      "2   0.148893   0.367647   0.245902   0.527273   0.666667   0.003811   \n",
      "3   0.159960   0.426471   0.229508   0.545454   0.666667   0.005332   \n",
      "4   0.182093   0.485294   0.229508   0.563637   0.666667   0.008391   \n",
      "5   0.138833   0.485294   0.229508   0.563637   0.666667   0.009912   \n",
      "\n",
      "   var7(t-1)  var8(t-1)   var1(t)  \n",
      "1   0.000000        0.0  0.148893  \n",
      "2   0.000000        0.0  0.159960  \n",
      "3   0.000000        0.0  0.182093  \n",
      "4   0.037037        0.0  0.138833  \n",
      "5   0.074074        0.0  0.109658  \n"
     ]
    }
   ],
   "source": [
    "# load dataset\n",
    "dataset = read_csv('pollution.csv', header=0, index_col=0)\n",
    "values = dataset.values\n",
    "# integer encode direction\n",
    "encoder = LabelEncoder()\n",
    "values[:,4] = encoder.fit_transform(values[:,4])\n",
    "# ensure all data is float\n",
    "values = values.astype('float32')\n",
    "reframed = series_to_supervised(values, 1, 1)\n",
    "#  normalize features - this will make it easier to interpret regression coefficnts\n",
    "scaler = MinMaxScaler(feature_range=(0, 1))\n",
    "scaled = scaler.fit_transform(values)\n",
    "# frame as supervised learning\n",
    "reframed = series_to_supervised(scaled, 1, 1)\n",
    "# drop columns we don't want to predict\n",
    "reframed.drop(reframed.columns[[9,10,11,12,13,14,15]], axis=1, inplace=True)\n",
    "print(reframed.head())"
   ]
  },
  {
   "cell_type": "code",
   "execution_count": 4,
   "metadata": {},
   "outputs": [
    {
     "name": "stdout",
     "output_type": "stream",
     "text": [
      "(8760, 8) (8760,) (35039, 8) (35039,)\n"
     ]
    }
   ],
   "source": [
    "# split into train and test sets\n",
    "values = reframed.values\n",
    "n_train_hours = 365 * 24\n",
    "train = values[:n_train_hours, :]\n",
    "test = values[n_train_hours:, :]\n",
    "# split into input and outputs\n",
    "train_X, train_y = train[:, :-1], train[:, -1]\n",
    "test_X, test_y = test[:, :-1], test[:, -1]\n",
    "print(train_X.shape, train_y.shape, test_X.shape, test_y.shape)"
   ]
  },
  {
   "cell_type": "code",
   "execution_count": 5,
   "metadata": {},
   "outputs": [
    {
     "data": {
      "text/plain": [
       "<matplotlib.axes._subplots.AxesSubplot at 0x7f1a4eeb0b00>"
      ]
     },
     "execution_count": 5,
     "metadata": {},
     "output_type": "execute_result"
    },
    {
     "data": {
      "image/png": "[encoded data removed]",
      "text/plain": [
       "<Figure size 432x288 with 1 Axes>"
      ]
     },
     "metadata": {},
     "output_type": "display_data"
    }
   ],
   "source": [
    "# plot the time series we are predicting\n",
    "from pandas import Series\n",
    "ts = Series(data=test_y) #index=pd.to_datetime(dates))\n",
    "ts.plot()"
   ]
  },
  {
   "cell_type": "code",
   "execution_count": 6,
   "metadata": {},
   "outputs": [
    {
     "name": "stdout",
     "output_type": "stream",
     "text": [
      "[ 0.9201127   0.01994496 -0.02873377 -0.01381464  0.00926528 -0.00564331\n",
      " -0.01413328 -0.02505871]\n"
     ]
    }
   ],
   "source": [
    "from sklearn.linear_model import Ridge\n",
    "clf = Ridge(alpha=0.001)\n",
    "clf.fit(train_X, train_y) \n",
    "#note that this is coming very close to just using the most recent measurement\n",
    "print(clf.coef_)\n",
    "yhat = clf.predict(test_X)"
   ]
  },
  {
   "cell_type": "code",
   "execution_count": 7,
   "metadata": {},
   "outputs": [
    {
     "name": "stdout",
     "output_type": "stream",
     "text": [
      "Test MSE: 0.0006973\n"
     ]
    }
   ],
   "source": [
    "#1 calculate RMSE\n",
    "mse = mean_squared_error(test_y, yhat)\n",
    "print('Test MSE: %.7f' % mse)\n"
   ]
  },
  {
   "cell_type": "code",
   "execution_count": 25,
   "metadata": {},
   "outputs": [],
   "source": [
    "# If you want error in the original usits, you'd need to transform the data back\n",
    "# to calculate RMSE in original space\n",
    "# one coulde invert scaling for forecast,but it's just a constant scaling.\n",
    "# inv_yhat = scaler.inverse_transform(yhat)"
   ]
  },
  {
   "cell_type": "code",
   "execution_count": 8,
   "metadata": {},
   "outputs": [
    {
     "name": "stdout",
     "output_type": "stream",
     "text": [
      "[ 0.289319   -0.39767933 -0.21497102  0.03484666 -0.09229527 -0.13636707\n",
      " -0.20739344]\n",
      "Test MSE: 0.0073079\n"
     ]
    }
   ],
   "source": [
    "# 2 what if we don't know the most recent polution level?\n",
    "clf = Ridge(alpha=0.001)\n",
    "clf.fit(train_X[:,1:], train_y) \n",
    "#note that this is coming close to just using the most recent measurement\n",
    "print(clf.coef_)\n",
    "yhat = clf.predict(test_X[:,1:])\n",
    "#print(test_y.shape)\n",
    "#print(yhat.shape)\n",
    "mse = mean_squared_error(test_y, yhat)\n",
    "print('Test MSE: %.7f' % mse)\n",
    "# we get an order of magnitude higher error"
   ]
  },
  {
   "cell_type": "code",
   "execution_count": 9,
   "metadata": {},
   "outputs": [
    {
     "name": "stdout",
     "output_type": "stream",
     "text": [
      "Test MSE: 0.0007139\n"
     ]
    }
   ],
   "source": [
    "#3 naive forecast: future is the same as the most recent value \n",
    "#print(test_y)\n",
    "# lag by 1 to get y_hat\n",
    "#print('test_y mean, min, max:',ts.mean(), ts.min(), ts.max())\n",
    "#print(ts.head())\n",
    "#print(yhat.shape)\n",
    "#print(test_y.shape)\n",
    "yhat = ts.shift()\n",
    "mse = mean_squared_error(test_y[1:], yhat[1:])\n",
    "print('Test MSE: %.7f' % mse)\n",
    "# the same as the original model"
   ]
  },
  {
   "cell_type": "code",
   "execution_count": 10,
   "metadata": {},
   "outputs": [
    {
     "name": "stdout",
     "output_type": "stream",
     "text": [
      "[0.9432982]\n",
      "Test MSE: 0.0007011\n"
     ]
    }
   ],
   "source": [
    "### 5 AR(1)\n",
    "ts = Series(data=train_y)\n",
    "df = concat([ts.shift()], axis=1).dropna()  #create lags for a single series\n",
    "clf = Ridge(alpha=0.001)\n",
    "train_X = df.values\n",
    "clf.fit(train_X,train_y[1:])\n",
    "#print(train_y[2:].shape)\n",
    "#print(train_X.shape)\n",
    "ts_test = Series(data=test_y)\n",
    "df_test = concat([ts_test.shift()], axis=1).dropna()  #create lags for a single series\n",
    "test_X = df_test.values\n",
    "#print(test_X.shape)\n",
    "yhat = clf.predict(test_X)\n",
    "print(clf.coef_)\n",
    "mse = mean_squared_error(test_y[1:], yhat)\n",
    "print('Test MSE: %.7f' % mse)"
   ]
  },
  {
   "cell_type": "code",
   "execution_count": 55,
   "metadata": {
    "scrolled": true
   },
   "outputs": [
    {
     "name": "stdout",
     "output_type": "stream",
     "text": [
      "[ 1.2271321   0.00189987 -0.15568675 -0.11354518  0.02918328]\n",
      "Test MSE: 0.0005101\n"
     ]
    }
   ],
   "source": [
    "### 5 generate more lags AR(3)\n",
    "ts = Series(data=train_y)\n",
    "df = concat([ts.shift(), ts.shift(2), ts.shift(3), ts.shift(4), ts.shift(5)], axis=1).dropna()\n",
    "clf = Ridge(alpha=0.001)\n",
    "train_X = df.values\n",
    "clf.fit(train_X,train_y[5:])\n",
    "#print(train_y[2:].shape)\n",
    "#print(train_X.shape)\n",
    "ts_test = Series(data=test_y)\n",
    "df_test = concat([ts_test.shift(), ts_test.shift(2), \n",
    "                  ts_test.shift(3), ts_test.shift(4), ts_test.shift(5)], axis=1).dropna()\n",
    "test_X = df_test.values\n",
    "#print(test_X.shape)\n",
    "yhat = clf.predict(test_X)\n",
    "print(clf.coef_)\n",
    "mse = mean_squared_error(test_y[5:], yhat)\n",
    "print('Test MSE: %.7f' % mse)\n"
   ]
  },
  {
   "cell_type": "markdown",
   "metadata": {
    "collapsed": true
   },
   "source": [
    "# Temperature Prediction"
   ]
  },
  {
   "cell_type": "code",
   "execution_count": 27,
   "metadata": {},
   "outputs": [
    {
     "name": "stdout",
     "output_type": "stream",
     "text": [
      "   var1(t-1)  var2(t-1)  var3(t-1)  var4(t-1)  var5(t-1)  var6(t-1)  \\\n",
      "1   0.129779   0.352941   0.245902   0.527273   0.666667   0.002290   \n",
      "2   0.148893   0.367647   0.245902   0.527273   0.666667   0.003811   \n",
      "3   0.159960   0.426471   0.229508   0.545454   0.666667   0.005332   \n",
      "4   0.182093   0.485294   0.229508   0.563637   0.666667   0.008391   \n",
      "5   0.138833   0.485294   0.229508   0.563637   0.666667   0.009912   \n",
      "\n",
      "   var7(t-1)  var8(t-1)   var3(t)  \n",
      "1   0.000000        0.0  0.245902  \n",
      "2   0.000000        0.0  0.229508  \n",
      "3   0.000000        0.0  0.229508  \n",
      "4   0.037037        0.0  0.229508  \n",
      "5   0.074074        0.0  0.213115  \n"
     ]
    }
   ],
   "source": [
    "# load dataset\n",
    "dataset = read_csv('pollution.csv', header=0, index_col=0)\n",
    "values = dataset.values\n",
    "# integer encode direction\n",
    "encoder = LabelEncoder()\n",
    "values[:,4] = encoder.fit_transform(values[:,4])\n",
    "# ensure all data is float\n",
    "values = values.astype('float32')\n",
    "reframed = series_to_supervised(values, 1, 1)\n",
    "#  normalize features - this will make it easier to interpret regression coefficnts\n",
    "scaler = MinMaxScaler(feature_range=(0, 1))\n",
    "scaled = scaler.fit_transform(values)\n",
    "# frame as supervised learning\n",
    "reframed = series_to_supervised(scaled, 1, 1)\n",
    "# drop columns we don't want to predict - column 10 is test data\n",
    "reframed.drop(reframed.columns[[8,9,11,12,13,14,15]], axis=1, inplace=True)\n",
    "print(reframed.head())"
   ]
  },
  {
   "cell_type": "code",
   "execution_count": 28,
   "metadata": {},
   "outputs": [
    {
     "name": "stdout",
     "output_type": "stream",
     "text": [
      "(8760, 8) (8760,) (35039, 8) (35039,)\n"
     ]
    }
   ],
   "source": [
    "# split into train and test sets\n",
    "values = reframed.values\n",
    "n_train_hours = 365 * 24\n",
    "train = values[:n_train_hours, :]\n",
    "test = values[n_train_hours:, :]\n",
    "# split into input and outputs\n",
    "train_X, train_y = train[:, :-1], train[:, -1]\n",
    "test_X, test_y = test[:, :-1], test[:, -1]\n",
    "print(train_X.shape, train_y.shape, test_X.shape, test_y.shape)"
   ]
  },
  {
   "cell_type": "code",
   "execution_count": 29,
   "metadata": {},
   "outputs": [
    {
     "data": {
      "text/plain": [
       "<matplotlib.axes._subplots.AxesSubplot at 0x7f1a4ec5a940>"
      ]
     },
     "execution_count": 29,
     "metadata": {},
     "output_type": "execute_result"
    },
    {
     "data": {
      "image/png": "[encoded data removed]",
      "text/plain": [
       "<Figure size 432x288 with 1 Axes>"
      ]
     },
     "metadata": {},
     "output_type": "display_data"
    }
   ],
   "source": [
    "# plot the time series we are predicting\n",
    "from pandas import Series\n",
    "ts = Series(data=test_y) #index=pd.to_datetime(dates))\n",
    "ts.plot()"
   ]
  },
  {
   "cell_type": "code",
   "execution_count": 33,
   "metadata": {},
   "outputs": [
    {
     "name": "stdout",
     "output_type": "stream",
     "text": [
      "[-9.1547817e-03  3.1888347e-02  9.6679199e-01  5.1032042e-04\n",
      " -4.9584610e-03 -1.1957804e-02 -1.0097635e-02 -1.9363882e-02]\n",
      "Test MSE: 0.0005973\n"
     ]
    }
   ],
   "source": [
    "clf = Ridge(alpha=0.001)\n",
    "clf.fit(train_X, train_y) \n",
    "#note that this is coming very close to just using the most recent measurement\n",
    "print(clf.coef_)\n",
    "yhat = clf.predict(test_X)\n",
    "mse = mean_squared_error(test_y, yhat)\n",
    "print('Test MSE: %.7f' % mse)"
   ]
  },
  {
   "cell_type": "code",
   "execution_count": 50,
   "metadata": {},
   "outputs": [
    {
     "name": "stdout",
     "output_type": "stream",
     "text": [
      "[-0.46046692  0.671406   -0.3764615   0.00159735  0.06496355 -0.31914523\n",
      " -0.2644657 ]\n",
      "Test MSE: 0.0086624\n"
     ]
    }
   ],
   "source": [
    "import numpy as np\n",
    "\n",
    "clf = Ridge(alpha=0.001)\n",
    "mod_train_X = np.concatenate((train_X[:,:2],train_X[:,3:]), axis = 1)\n",
    "clf.fit(mod_train_X, train_y) \n",
    "#note that this is coming close to just using the most recent measurement\n",
    "print(clf.coef_)\n",
    "mod_test_X = np.concatenate((test_X[:,:2],test_X[:,3:]), axis = 1)\n",
    "yhat = clf.predict(mod_test_X)\n",
    "#print(test_y.shape)\n",
    "#print(yhat.shape)\n",
    "mse = mean_squared_error(test_y, yhat)\n",
    "print('Test MSE: %.7f' % mse)"
   ]
  },
  {
   "cell_type": "code",
   "execution_count": 51,
   "metadata": {},
   "outputs": [
    {
     "name": "stdout",
     "output_type": "stream",
     "text": [
      "Test MSE: 0.0006171\n"
     ]
    }
   ],
   "source": [
    "yhat = ts.shift()\n",
    "mse = mean_squared_error(test_y[1:], yhat[1:])\n",
    "print('Test MSE: %.7f' % mse)\n",
    "# the same as the original model"
   ]
  },
  {
   "cell_type": "code",
   "execution_count": 54,
   "metadata": {},
   "outputs": [
    {
     "name": "stdout",
     "output_type": "stream",
     "text": [
      "[ 1.2446164  -0.00262128 -0.25251317]\n",
      "Test MSE: 0.0005134\n"
     ]
    }
   ],
   "source": [
    "### 5 generate more lags AR(3)\n",
    "ts = Series(data=train_y)\n",
    "df = concat([ts.shift(), ts.shift(2), ts.shift(3)], axis=1).dropna()  #create lags for a single series\n",
    "clf = Ridge(alpha=0.001)\n",
    "train_X = df.values\n",
    "clf.fit(train_X,train_y[3:])\n",
    "#print(train_y[2:].shape)\n",
    "#print(train_X.shape)\n",
    "ts_test = Series(data=test_y)\n",
    "df_test = concat([ts_test.shift(), ts_test.shift(2), ts_test.shift(3)], axis=1).dropna()  #create lags for a single series\n",
    "test_X = df_test.values\n",
    "#print(test_X.shape)\n",
    "yhat = clf.predict(test_X)\n",
    "print(clf.coef_)\n",
    "mse = mean_squared_error(test_y[3:], yhat)\n",
    "print('Test MSE: %.7f' % mse)"
   ]
  },
  {
   "cell_type": "code",
   "execution_count": 48,
   "metadata": {},
   "outputs": [
    {
     "data": {
      "text/plain": [
       "(8760, 7)"
      ]
     },
     "execution_count": 48,
     "metadata": {},
     "output_type": "execute_result"
    }
   ],
   "source": []
  },
  {
   "cell_type": "code",
   "execution_count": 39,
   "metadata": {},
   "outputs": [
    {
     "data": {
      "text/plain": [
       "array([-0.00495846, -0.0119578 , -0.01009763, -0.01936388], dtype=float32)"
      ]
     },
     "execution_count": 39,
     "metadata": {},
     "output_type": "execute_result"
    }
   ],
   "source": []
  },
  {
   "cell_type": "code",
   "execution_count": null,
   "metadata": {},
   "outputs": [],
   "source": []
  }
 ],
 "metadata": {
  "kernelspec": {
   "display_name": "Python 3",
   "language": "python",
   "name": "python3"
  },
  "language_info": {
   "codemirror_mode": {
    "name": "ipython",
    "version": 3
   },
   "file_extension": ".py",
   "mimetype": "text/x-python",
   "name": "python",
   "nbconvert_exporter": "python",
   "pygments_lexer": "ipython3",
   "version": "3.6.4"
  },
  "toc": {
   "colors": {
    "hover_highlight": "#DAA520",
    "running_highlight": "#FF0000",
    "selected_highlight": "#FFD700"
   },
   "moveMenuLeft": true,
   "nav_menu": {
    "height": "12px",
    "width": "252px"
   },
   "navigate_menu": true,
   "number_sections": true,
   "sideBar": true,
   "threshold": 4,
   "toc_cell": false,
   "toc_section_display": "block",
   "toc_window_display": false,
   "widenNotebook": false
  }
 },
 "nbformat": 4,
 "nbformat_minor": 1
}

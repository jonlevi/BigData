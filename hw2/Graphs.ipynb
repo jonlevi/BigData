{
 "cells": [
  {
   "cell_type": "markdown",
   "metadata": {},
   "source": [
    "# CIS 545 Homework 2: Graphs"
   ]
  },
  {
   "cell_type": "code",
   "execution_count": 1,
   "metadata": {},
   "outputs": [
    {
     "name": "stdout",
     "output_type": "stream",
     "text": [
      "Requirement already satisfied: networkx in /opt/conda/lib/python3.6/site-packages\n",
      "Requirement already satisfied: decorator>=4.1.0 in /opt/conda/lib/python3.6/site-packages (from networkx)\n"
     ]
    }
   ],
   "source": [
    "# Execute this once, the first time you run\n",
    "# !pip install networkx\n",
    "\n",
    "# Disable Python warning messages - you should probably only run this before submission\n",
    "\n",
    "# import warnings\n",
    "# warnings.filterwarnings('ignore')"
   ]
  },
  {
   "cell_type": "markdown",
   "metadata": {},
   "source": [
    "## Step 2.1 Spark Setup"
   ]
  },
  {
   "cell_type": "code",
   "execution_count": 1,
   "metadata": {},
   "outputs": [],
   "source": [
    "# TODO: Connect to Spark as per Step 2.1\n",
    "from pyspark.sql import SparkSession\n",
    "from pyspark.sql.types import *\n",
    "import pyspark.sql.functions as F\n",
    "\n",
    "spark = SparkSession.builder.appName('Graphs-HW2').getOrCreate()"
   ]
  },
  {
   "cell_type": "code",
   "execution_count": 2,
   "metadata": {},
   "outputs": [
    {
     "name": "stderr",
     "output_type": "stream",
     "text": [
      "/usr/local/spark/python/pyspark/sql/session.py:331: UserWarning: inferring schema from dict is deprecated,please use pyspark.sql.Row instead\n",
      "  warnings.warn(\"inferring schema from dict is deprecated,\"\n"
     ]
    }
   ],
   "source": [
    "# Load some dummy data, which should be overwritten in Step 2.2\n",
    "\n",
    "answers_sdf = spark.createDataFrame([{'from_node': 123, 'to_node': 456},\\\n",
    "                                    {'from_node': 456, 'to_node': 789},\n",
    "                                    {'from_node': 456, 'to_node': 890}])\n",
    "comments_answers_sdf = spark.createDataFrame([{'from_node': 123, 'to_node': 456}])\n",
    "comments_questions_sdf = spark.createDataFrame([{'from_node': 123, 'to_node': 456}])\n",
    "\n",
    "graph_sdf = spark.createDataFrame([{'from_node': 123, 'to_node': 456}])"
   ]
  },
  {
   "cell_type": "markdown",
   "metadata": {},
   "source": [
    "## Step 2.2 Loading"
   ]
  },
  {
   "cell_type": "code",
   "execution_count": 2,
   "metadata": {},
   "outputs": [],
   "source": [
    "# TODO: load data as per Step 2.2\n",
    "answers_sdf = spark.read.load('sx-stackoverflow-a2q.txt', format=\"text\")\n",
    "comments_answers_sdf = spark.read.load('sx-stackoverflow-c2a.txt', format=\"text\")\n",
    "comments_questions_sdf = spark.read.load('sx-stackoverflow-c2q.txt', format=\"text\")\n",
    "\n"
   ]
  },
  {
   "cell_type": "code",
   "execution_count": 69,
   "metadata": {},
   "outputs": [],
   "source": [
    "# You may add as many cells as you like here.\n",
    "# Use Insert | Insert Cell Below"
   ]
  },
  {
   "cell_type": "markdown",
   "metadata": {},
   "source": [
    "## Step 2.2 Results"
   ]
  },
  {
   "cell_type": "code",
   "execution_count": 3,
   "metadata": {},
   "outputs": [
    {
     "data": {
      "text/plain": [
       "17823525"
      ]
     },
     "execution_count": 3,
     "metadata": {},
     "output_type": "execute_result"
    }
   ],
   "source": [
    "answers_sdf.count()"
   ]
  },
  {
   "cell_type": "code",
   "execution_count": 4,
   "metadata": {},
   "outputs": [
    {
     "name": "stdout",
     "output_type": "stream",
     "text": [
      "+----------------+\n",
      "|           value|\n",
      "+----------------+\n",
      "|  9 8 1217567877|\n",
      "|  1 1 1217573801|\n",
      "| 13 1 1217606247|\n",
      "| 17 1 1217617639|\n",
      "| 48 2 1217618182|\n",
      "| 17 1 1217618239|\n",
      "| 19 9 1217618357|\n",
      "|13 23 1217618560|\n",
      "|13 11 1217618799|\n",
      "|23 23 1217619360|\n",
      "|35 33 1217620542|\n",
      "|39 33 1217620597|\n",
      "|43 22 1217620971|\n",
      "|17 32 1217621272|\n",
      "|39 40 1217621416|\n",
      "|37 40 1217621670|\n",
      "|45 45 1217621917|\n",
      "|17 17 1217622124|\n",
      "|49 13 1217623079|\n",
      "|13 23 1217623216|\n",
      "+----------------+\n",
      "only showing top 20 rows\n",
      "\n"
     ]
    }
   ],
   "source": [
    "answers_sdf.show()"
   ]
  },
  {
   "cell_type": "code",
   "execution_count": 5,
   "metadata": {},
   "outputs": [
    {
     "name": "stdout",
     "output_type": "stream",
     "text": [
      "root\n",
      " |-- value: string (nullable = true)\n",
      "\n"
     ]
    }
   ],
   "source": [
    "answers_sdf.printSchema()"
   ]
  },
  {
   "cell_type": "code",
   "execution_count": 6,
   "metadata": {},
   "outputs": [
    {
     "data": {
      "text/plain": [
       "25405374"
      ]
     },
     "execution_count": 6,
     "metadata": {},
     "output_type": "execute_result"
    }
   ],
   "source": [
    "comments_answers_sdf.count()"
   ]
  },
  {
   "cell_type": "code",
   "execution_count": 7,
   "metadata": {},
   "outputs": [
    {
     "name": "stdout",
     "output_type": "stream",
     "text": [
      "+--------------------+\n",
      "|               value|\n",
      "+--------------------+\n",
      "|     1 91 1220713630|\n",
      "|     3 91 1220713792|\n",
      "|  380 350 1220715736|\n",
      "|4642 2257 1220734307|\n",
      "|4642 1324220 1220...|\n",
      "|2495 4285 1220736640|\n",
      "|4642 4893 1220737355|\n",
      "|2515 4903 1220738560|\n",
      "|2515 4893 1220739071|\n",
      "|  199 199 1220741079|\n",
      "+--------------------+\n",
      "only showing top 10 rows\n",
      "\n"
     ]
    }
   ],
   "source": [
    "comments_answers_sdf.show(10)"
   ]
  },
  {
   "cell_type": "code",
   "execution_count": 8,
   "metadata": {},
   "outputs": [
    {
     "name": "stdout",
     "output_type": "stream",
     "text": [
      "root\n",
      " |-- value: string (nullable = true)\n",
      "\n"
     ]
    }
   ],
   "source": [
    "comments_answers_sdf.printSchema()"
   ]
  },
  {
   "cell_type": "code",
   "execution_count": 9,
   "metadata": {},
   "outputs": [
    {
     "data": {
      "text/plain": [
       "20268151"
      ]
     },
     "execution_count": 9,
     "metadata": {},
     "output_type": "execute_result"
    }
   ],
   "source": [
    "comments_questions_sdf.count()"
   ]
  },
  {
   "cell_type": "code",
   "execution_count": 10,
   "metadata": {},
   "outputs": [
    {
     "name": "stdout",
     "output_type": "stream",
     "text": [
      "+--------------------+\n",
      "|               value|\n",
      "+--------------------+\n",
      "|4550 4550 1220729190|\n",
      "|  242 184 1220733503|\n",
      "|4213 4946 1220768149|\n",
      "|    91 91 1220768295|\n",
      "|2658 1874 1220771891|\n",
      "|4035 1874 1220773037|\n",
      "|2257 4489 1220802041|\n",
      "|  577 577 1220834891|\n",
      "|4489 4489 1220853536|\n",
      "| 828 2783 1220854143|\n",
      "+--------------------+\n",
      "only showing top 10 rows\n",
      "\n"
     ]
    }
   ],
   "source": [
    "comments_questions_sdf.show(10)"
   ]
  },
  {
   "cell_type": "code",
   "execution_count": 11,
   "metadata": {},
   "outputs": [
    {
     "name": "stdout",
     "output_type": "stream",
     "text": [
      "root\n",
      " |-- value: string (nullable = true)\n",
      "\n"
     ]
    }
   ],
   "source": [
    "comments_questions_sdf.printSchema()"
   ]
  },
  {
   "cell_type": "markdown",
   "metadata": {},
   "source": [
    "## Step 2.3"
   ]
  },
  {
   "cell_type": "code",
   "execution_count": 3,
   "metadata": {},
   "outputs": [],
   "source": [
    "# TODO: wrangling work in Step 2.3.  Add as many Cells as you need\n",
    "answers_sdf.createOrReplaceTempView('my_sdf_view')\n",
    "answers_sdf = spark.sql(\"SELECT CAST(split(value, ' ')[0] AS INT) AS from_node, \"\\\n",
    "              \"CAST(split(value, ' ')[1] AS INT) AS to_node, \" \\\n",
    "               \"'answer' AS edge_type \" \\\n",
    "              \"FROM my_sdf_view\")\n",
    "\n",
    "comments_answers_sdf.createOrReplaceTempView('my_sdf_view')\n",
    "comments_answers_sdf = spark.sql(\"SELECT CAST(split(value, ' ')[0] AS INT) AS from_node, \"\\\n",
    "              \"CAST(split(value, ' ')[1] AS INT) AS to_node, \" \\\n",
    "               \"'comment-on-answer' AS edge_type \" \\\n",
    "              \"FROM my_sdf_view\")\n",
    "\n",
    "comments_questions_sdf.createOrReplaceTempView('my_sdf_view')\n",
    "comments_questions_sdf = spark.sql(\"SELECT CAST(split(value, ' ')[0] AS INT) AS from_node, \"\\\n",
    "              \"CAST(split(value, ' ')[1] AS INT) AS to_node, \" \\\n",
    "               \"'comment-on-question' AS edge_type \" \\\n",
    "              \"FROM my_sdf_view\")\n",
    "\n",
    "    "
   ]
  },
  {
   "cell_type": "code",
   "execution_count": 4,
   "metadata": {},
   "outputs": [],
   "source": [
    "answers_sdf.createOrReplaceTempView('a_sdf_view')\n",
    "comments_answers_sdf.createOrReplaceTempView('c2a_sdf_view')\n",
    "comments_questions_sdf.createOrReplaceTempView('c2q_sdf_view')\n",
    "\n",
    "graph_sdf = spark.sql(\"SELECT * FROM a_sdf_view UNION ALL \" \\\n",
    "                        \"SELECT * FROM c2a_sdf_view UNION ALL \"\\\n",
    "                         \"SELECT * FROM c2q_sdf_view\")"
   ]
  },
  {
   "cell_type": "markdown",
   "metadata": {},
   "source": [
    "## Step 2.3 Results"
   ]
  },
  {
   "cell_type": "code",
   "execution_count": 5,
   "metadata": {},
   "outputs": [
    {
     "data": {
      "text/plain": [
       "17823525"
      ]
     },
     "execution_count": 5,
     "metadata": {},
     "output_type": "execute_result"
    }
   ],
   "source": [
    "answers_sdf.count()"
   ]
  },
  {
   "cell_type": "code",
   "execution_count": 35,
   "metadata": {},
   "outputs": [
    {
     "name": "stdout",
     "output_type": "stream",
     "text": [
      "+---------+-------+---------+\n",
      "|from_node|to_node|edge_type|\n",
      "+---------+-------+---------+\n",
      "|        9|      8|   answer|\n",
      "|        1|      1|   answer|\n",
      "|       13|      1|   answer|\n",
      "|       17|      1|   answer|\n",
      "|       48|      2|   answer|\n",
      "+---------+-------+---------+\n",
      "only showing top 5 rows\n",
      "\n"
     ]
    }
   ],
   "source": [
    "answers_sdf.show(5)"
   ]
  },
  {
   "cell_type": "code",
   "execution_count": 36,
   "metadata": {},
   "outputs": [
    {
     "name": "stdout",
     "output_type": "stream",
     "text": [
      "root\n",
      " |-- from_node: integer (nullable = true)\n",
      " |-- to_node: integer (nullable = true)\n",
      " |-- edge_type: string (nullable = false)\n",
      "\n"
     ]
    }
   ],
   "source": [
    "answers_sdf.printSchema()"
   ]
  },
  {
   "cell_type": "code",
   "execution_count": 32,
   "metadata": {},
   "outputs": [
    {
     "data": {
      "text/plain": [
       "25405374"
      ]
     },
     "execution_count": 32,
     "metadata": {},
     "output_type": "execute_result"
    }
   ],
   "source": [
    "comments_answers_sdf.count()"
   ]
  },
  {
   "cell_type": "code",
   "execution_count": 37,
   "metadata": {},
   "outputs": [
    {
     "name": "stdout",
     "output_type": "stream",
     "text": [
      "+---------+-------+-----------------+\n",
      "|from_node|to_node|        edge_type|\n",
      "+---------+-------+-----------------+\n",
      "|        1|     91|comment-on-answer|\n",
      "|        3|     91|comment-on-answer|\n",
      "|      380|    350|comment-on-answer|\n",
      "|     4642|   2257|comment-on-answer|\n",
      "|     4642|1324220|comment-on-answer|\n",
      "+---------+-------+-----------------+\n",
      "only showing top 5 rows\n",
      "\n"
     ]
    }
   ],
   "source": [
    "comments_answers_sdf.show(5)"
   ]
  },
  {
   "cell_type": "code",
   "execution_count": 38,
   "metadata": {},
   "outputs": [
    {
     "name": "stdout",
     "output_type": "stream",
     "text": [
      "root\n",
      " |-- from_node: integer (nullable = true)\n",
      " |-- to_node: integer (nullable = true)\n",
      " |-- edge_type: string (nullable = false)\n",
      "\n"
     ]
    }
   ],
   "source": [
    "comments_answers_sdf.printSchema()"
   ]
  },
  {
   "cell_type": "code",
   "execution_count": 59,
   "metadata": {},
   "outputs": [
    {
     "data": {
      "text/plain": [
       "20268151"
      ]
     },
     "execution_count": 59,
     "metadata": {},
     "output_type": "execute_result"
    }
   ],
   "source": [
    " comments_questions_sdf.count()"
   ]
  },
  {
   "cell_type": "code",
   "execution_count": 39,
   "metadata": {},
   "outputs": [
    {
     "name": "stdout",
     "output_type": "stream",
     "text": [
      "+---------+-------+-------------------+\n",
      "|from_node|to_node|          edge_type|\n",
      "+---------+-------+-------------------+\n",
      "|     4550|   4550|comment-on-question|\n",
      "|      242|    184|comment-on-question|\n",
      "|     4213|   4946|comment-on-question|\n",
      "|       91|     91|comment-on-question|\n",
      "|     2658|   1874|comment-on-question|\n",
      "+---------+-------+-------------------+\n",
      "only showing top 5 rows\n",
      "\n"
     ]
    }
   ],
   "source": [
    "comments_questions_sdf.show(5)"
   ]
  },
  {
   "cell_type": "code",
   "execution_count": 40,
   "metadata": {},
   "outputs": [
    {
     "name": "stdout",
     "output_type": "stream",
     "text": [
      "root\n",
      " |-- from_node: integer (nullable = true)\n",
      " |-- to_node: integer (nullable = true)\n",
      " |-- edge_type: string (nullable = false)\n",
      "\n"
     ]
    }
   ],
   "source": [
    "comments_questions_sdf.printSchema()"
   ]
  },
  {
   "cell_type": "code",
   "execution_count": 63,
   "metadata": {},
   "outputs": [
    {
     "data": {
      "text/plain": [
       "63497050"
      ]
     },
     "execution_count": 63,
     "metadata": {},
     "output_type": "execute_result"
    }
   ],
   "source": [
    "graph_sdf.count()"
   ]
  },
  {
   "cell_type": "code",
   "execution_count": 41,
   "metadata": {},
   "outputs": [
    {
     "name": "stdout",
     "output_type": "stream",
     "text": [
      "+---------+-------+---------+\n",
      "|from_node|to_node|edge_type|\n",
      "+---------+-------+---------+\n",
      "|        9|      8|   answer|\n",
      "|        1|      1|   answer|\n",
      "|       13|      1|   answer|\n",
      "|       17|      1|   answer|\n",
      "|       48|      2|   answer|\n",
      "+---------+-------+---------+\n",
      "only showing top 5 rows\n",
      "\n"
     ]
    }
   ],
   "source": [
    "graph_sdf.show(5)"
   ]
  },
  {
   "cell_type": "code",
   "execution_count": 42,
   "metadata": {},
   "outputs": [
    {
     "name": "stdout",
     "output_type": "stream",
     "text": [
      "root\n",
      " |-- from_node: integer (nullable = true)\n",
      " |-- to_node: integer (nullable = true)\n",
      " |-- edge_type: string (nullable = false)\n",
      "\n"
     ]
    }
   ],
   "source": [
    "graph_sdf.printSchema()"
   ]
  },
  {
   "cell_type": "markdown",
   "metadata": {},
   "source": [
    "## Step 2.4"
   ]
  },
  {
   "cell_type": "code",
   "execution_count": 5,
   "metadata": {},
   "outputs": [],
   "source": [
    "# You may put any computations you need here\n",
    "\n",
    "graph_sdf.createOrReplaceTempView('graph_view')\n",
    "answers_sdf.createOrReplaceTempView('a_sdf_view')\n",
    "comments_answers_sdf.createOrReplaceTempView('c2a_sdf_view')\n",
    "comments_questions_sdf.createOrReplaceTempView('c2q_sdf_view')\n"
   ]
  },
  {
   "cell_type": "markdown",
   "metadata": {},
   "source": [
    "## Step 2.4.1 Results"
   ]
  },
  {
   "cell_type": "code",
   "execution_count": 7,
   "metadata": {},
   "outputs": [
    {
     "name": "stdout",
     "output_type": "stream",
     "text": [
      "+-------+---------+\n",
      "|   User|ansCounts|\n",
      "+-------+---------+\n",
      "|  22656|    32030|\n",
      "|1144035|    25146|\n",
      "|  29407|    20842|\n",
      "| 548225|    16944|\n",
      "| 157882|    16615|\n",
      "| 115145|    16515|\n",
      "|  17034|    15437|\n",
      "| 100297|    15020|\n",
      "|   6309|    14291|\n",
      "|  34397|    14033|\n",
      "+-------+---------+\n",
      "\n"
     ]
    }
   ],
   "source": [
    "# TODO: output dataframe with top 10 users by number of questions\n",
    "spark.sql(\"SELECT from_node AS User, COUNT(*) AS ansCounts FROM \" \\\n",
    "          \"a_sdf_view GROUP BY from_node ORDER BY COUNT(*) DESC  LIMIT 10\").show()\n"
   ]
  },
  {
   "cell_type": "code",
   "execution_count": 9,
   "metadata": {},
   "outputs": [
    {
     "name": "stdout",
     "output_type": "stream",
     "text": [
      "+-------+---------+\n",
      "|   User|ansCounts|\n",
      "+-------+---------+\n",
      "|  22656|    22860|\n",
      "|1144035|    21032|\n",
      "| 548225|    14127|\n",
      "|  29407|    13043|\n",
      "| 115145|    12243|\n",
      "|  19068|    12114|\n",
      "| 100297|    11486|\n",
      "|  34397|    11368|\n",
      "|  17034|    11347|\n",
      "|   6309|    11057|\n",
      "+-------+---------+\n",
      "\n"
     ]
    }
   ],
   "source": [
    "# TODO: output top 10 users by number of answers to questions by distinct users\n",
    "spark.sql(\"SELECT from_node AS User, COUNT(DISTINCT from_node, to_node) AS ansCounts FROM \" \\\n",
    "          \"a_sdf_view GROUP BY from_node ORDER BY ansCounts DESC LIMIT 10\").show()"
   ]
  },
  {
   "cell_type": "markdown",
   "metadata": {},
   "source": [
    "## Step 2.4.2 Results"
   ]
  },
  {
   "cell_type": "code",
   "execution_count": 6,
   "metadata": {},
   "outputs": [
    {
     "data": {
      "text/plain": [
       "150681"
      ]
     },
     "execution_count": 6,
     "metadata": {},
     "output_type": "execute_result"
    }
   ],
   "source": [
    "# TODO: number of users whose questions have never been answered or commented on\n",
    "spark.sql(\"SELECT DISTINCT to_node FROM c2q_sdf_view WHERE NOT EXISTS \" \\\n",
    "        \"(SELECT to_node FROM a_sdf_view WHERE c2q_sdf_view.to_node=a_sdf_view.to_node)\").count()"
   ]
  },
  {
   "cell_type": "markdown",
   "metadata": {},
   "source": [
    "## Step 2.4.3 Results"
   ]
  },
  {
   "cell_type": "code",
   "execution_count": 6,
   "metadata": {},
   "outputs": [
    {
     "name": "stdout",
     "output_type": "stream",
     "text": [
      "+---------+-------+----------+\n",
      "|from_node|to_node|numAnswers|\n",
      "+---------+-------+----------+\n",
      "|   315935| 742402|       155|\n",
      "|   217408|2258442|       105|\n",
      "|     6309| 399145|        81|\n",
      "|   157882|1391249|        78|\n",
      "|     6309| 470184|        76|\n",
      "|   157882| 240337|        76|\n",
      "|    91299| 167454|        73|\n",
      "|   505088|  46207|        72|\n",
      "|   505088| 988445|        69|\n",
      "|   366797|  15168|        65|\n",
      "+---------+-------+----------+\n",
      "\n"
     ]
    }
   ],
   "source": [
    "# TODO: top 10 pairs of users by mutual answers, along with the number of questions they have mutually answered\n",
    "spark.sql(\"SELECT a1.from_node, a1.to_node, IFNULL(c1,0) + IFNULL(c2,0) as numAnswers \"\\\n",
    "          \"FROM (SELECT from_node, to_node, COUNT(*) as c1 FROM a_sdf_view GROUP BY from_node, to_node) AS a1 \" \\\n",
    "          \"LEFT JOIN (SELECT from_node, to_node, COUNT(*) as c2 FROM a_sdf_view GROUP BY from_node, to_node) AS a2 \"\\\n",
    "          \"ON (a1.from_node==a2.to_node AND a1.to_node==a2.from_node)  WHERE a1.from_node <> a1.to_node \" \\\n",
    "          \"ORDER BY numAnswers DESC LIMIT 10\").show()"
   ]
  },
  {
   "cell_type": "markdown",
   "metadata": {},
   "source": [
    "# Step 3"
   ]
  },
  {
   "cell_type": "code",
   "execution_count": 10,
   "metadata": {},
   "outputs": [],
   "source": [
    "# TODO: remove these, which just create dummy data\n",
    "highest_indegree_sdf = spark.sql(\"SELECT to_node, COUNT(*) AS indegree FROM graph_view \\\n",
    "                            GROUP BY to_node ORDER BY indegree DESC\")\n",
    "highest_outdegree_sdf = spark.sql(\"SELECT from_node, COUNT(*) AS outdegree FROM graph_view \\\n",
    "                            GROUP BY from_node ORDER BY outdegree DESC\")\n",
    "\n",
    "# TODO: Fill in according to HW spec\n",
    "\n"
   ]
  },
  {
   "cell_type": "markdown",
   "metadata": {},
   "source": [
    "## Step 3 Results"
   ]
  },
  {
   "cell_type": "code",
   "execution_count": 7,
   "metadata": {},
   "outputs": [
    {
     "name": "stdout",
     "output_type": "stream",
     "text": [
      "+-------+--------+\n",
      "|to_node|indegree|\n",
      "+-------+--------+\n",
      "|  22656|   93143|\n",
      "| 548225|   54410|\n",
      "|  29407|   45824|\n",
      "| 157882|   39576|\n",
      "|1144035|   38909|\n",
      "+-------+--------+\n",
      "only showing top 5 rows\n",
      "\n"
     ]
    }
   ],
   "source": [
    "highest_indegree_sdf.show(5)"
   ]
  },
  {
   "cell_type": "code",
   "execution_count": 8,
   "metadata": {},
   "outputs": [
    {
     "name": "stdout",
     "output_type": "stream",
     "text": [
      "+---------+---------+\n",
      "|from_node|outdegree|\n",
      "+---------+---------+\n",
      "|    22656|   101663|\n",
      "|   505088|    65522|\n",
      "|    17034|    65260|\n",
      "|  1491895|    62746|\n",
      "|   100297|    54330|\n",
      "+---------+---------+\n",
      "only showing top 5 rows\n",
      "\n"
     ]
    }
   ],
   "source": [
    "highest_outdegree_sdf.show(5)"
   ]
  },
  {
   "cell_type": "markdown",
   "metadata": {},
   "source": [
    "## Step 4"
   ]
  },
  {
   "cell_type": "code",
   "execution_count": 108,
   "metadata": {},
   "outputs": [],
   "source": [
    "# TODO: insert code as you like"
   ]
  },
  {
   "cell_type": "code",
   "execution_count": 6,
   "metadata": {},
   "outputs": [],
   "source": [
    "#\n",
    "# Step 4.1 Pre-processing\n",
    "#\n",
    "def spark_bfs(G, origins, max_depth):\n",
    "    G.createOrReplaceTempView('g')\n",
    "    schema = StructType([\n",
    "\n",
    "            StructField(\"node\", IntegerType(), True)\n",
    "\n",
    "        ])\n",
    "\n",
    "\n",
    "    origins_sdf = spark.createDataFrame(origins, schema)\n",
    "    origins_sdf.createOrReplaceTempView('origins')\n",
    "    \n",
    "    #start by adding origin\n",
    "    answers_sdf = spark.sql('SELECT node, 0 AS depth FROM origins')\n",
    "    answers_sdf.createOrReplaceTempView('answers')\n",
    " \n",
    "    for d in range(1, max_depth+1):\n",
    "\n",
    "        new_sdf = spark.sql('SELECT to_node AS node, ' + str(d) +  ' AS depth FROM g WHERE \\\n",
    "                        (from_node IN (SELECT * FROM origins) AND to_node NOT IN (SELECT node from answers))')\n",
    "\n",
    "        new_sdf.createOrReplaceTempView('new')\n",
    "        return_sdf = spark.sql('SELECT * FROM answers UNION ALL SELECT * FROM new')\n",
    "        return_sdf.createOrReplaceTempView('answers')\n",
    "        origins_sdf = spark.sql('SELECT node from answers WHERE (depth= '+ str(d) + ')')\n",
    "        origins_sdf.createOrReplaceTempView('origins')\n",
    "\n",
    "\n",
    "    return return_sdf"
   ]
  },
  {
   "cell_type": "markdown",
   "metadata": {},
   "source": [
    "## Step 4.1"
   ]
  },
  {
   "cell_type": "code",
   "execution_count": 7,
   "metadata": {},
   "outputs": [],
   "source": [
    "# TODO: comment out this line once your code is ready\n",
    "# bfs_sdf = spark.createDataFrame([{'node': 123, 'depth': 1}, {'node': 456, 'depth': 2}])\n",
    "\n",
    "# TODO: enable this once your code is ready\n",
    "origin_map = [{'node': 4550}, {'node': 242}]\n",
    "bfs_sdf = spark_bfs(comments_questions_sdf, origin_map, 2)\n"
   ]
  },
  {
   "cell_type": "code",
   "execution_count": 114,
   "metadata": {},
   "outputs": [],
   "source": [
    "# TODO: insert code as you like"
   ]
  },
  {
   "cell_type": "markdown",
   "metadata": {},
   "source": [
    "## Step 4.1 Results"
   ]
  },
  {
   "cell_type": "code",
   "execution_count": 10,
   "metadata": {},
   "outputs": [
    {
     "name": "stdout",
     "output_type": "stream",
     "text": [
      "+-------+-----+\n",
      "|   node|depth|\n",
      "+-------+-----+\n",
      "|   4550|    0|\n",
      "|    242|    0|\n",
      "|    184|    1|\n",
      "|  45459|    1|\n",
      "|   1551|    1|\n",
      "|  67719|    1|\n",
      "| 451383|    1|\n",
      "|1139389|    1|\n",
      "| 633513|    1|\n",
      "| 602291|    1|\n",
      "|1619254|    1|\n",
      "| 171136|    1|\n",
      "|1940564|    1|\n",
      "|2605058|    1|\n",
      "|2705465|    1|\n",
      "|2495819|    1|\n",
      "| 818089|    1|\n",
      "|1684384|    1|\n",
      "|3047450|    1|\n",
      "|2332659|    1|\n",
      "+-------+-----+\n",
      "only showing top 20 rows\n",
      "\n"
     ]
    }
   ],
   "source": [
    "bfs_sdf.show()"
   ]
  },
  {
   "cell_type": "code",
   "execution_count": 11,
   "metadata": {},
   "outputs": [
    {
     "data": {
      "text/plain": [
       "396"
      ]
     },
     "execution_count": 11,
     "metadata": {},
     "output_type": "execute_result"
    }
   ],
   "source": [
    "bfs_sdf.count()"
   ]
  },
  {
   "cell_type": "markdown",
   "metadata": {},
   "source": [
    "## Step 4.2"
   ]
  },
  {
   "cell_type": "code",
   "execution_count": 8,
   "metadata": {},
   "outputs": [],
   "source": [
    "#\n",
    "# Step 4.2 Pre-processing\n",
    "#\n",
    "def friend_rec(input_sdf, graph_sdf):\n",
    "    \n",
    "    input_sdf.createOrReplaceTempView('input')\n",
    "    graph_sdf.createOrReplaceTempView('graph')\n",
    "    \n",
    "    \n",
    "    rec_sdf = spark.sql('SELECT t1.node AS from, t2.node AS to \\\n",
    "                        FROM input as t1 left outer join input as t2 \\\n",
    "                        ON t1.node != t2.node \\\n",
    "                        EXCEPT SELECT from_node, to_node FROM graph \\\n",
    "                       EXCEPT SELECT to_node, from_node FROM graph')\n",
    "    \n",
    "    \n",
    "    \n",
    "#     one = spark.sql('SELECT t1.node AS from, t2.node AS to  FROM \\\n",
    "#                input AS t1 JOIN input as t2 ON (t1.node <> t2.node) \\\n",
    "#                WHERE NOT EXISTS \\\n",
    "#                (SELECT * FROM graph WHERE \\\n",
    "#                ((from_node=t1.node AND to_node=t2.node) OR (from_node=t2.node AND to_node=t1.node)))')\n",
    "#     one.createOrReplaceTempView('one')\n",
    "    \n",
    "#     two = spark.sql('SELECT t2.node AS from, t1.node AS to  FROM \\\n",
    "#                input AS t1 JOIN input as t2 ON (t1.node <> t2.node) \\\n",
    "#                WHERE NOT EXISTS \\\n",
    "#                (SELECT * FROM graph WHERE \\\n",
    "#                ((from_node=t1.node AND to_node=t2.node) OR (from_node=t2.node AND to_node=t1.node)))')\n",
    "    \n",
    "#     one.createOrReplaceTempView('two')\n",
    "    \n",
    "#     friend_recommendations_sdf = spark.sql('SELECT * FROM one UNION ALL SELECT * FROM two')\n",
    "    \n",
    "    \n",
    "    \n",
    "    return rec_sdf"
   ]
  },
  {
   "cell_type": "code",
   "execution_count": 118,
   "metadata": {},
   "outputs": [],
   "source": [
    "# TODO: insert code as you like"
   ]
  },
  {
   "cell_type": "code",
   "execution_count": 9,
   "metadata": {},
   "outputs": [],
   "source": [
    "# TODO: comment this line out when your function works\n",
    "# friend_recommendations_sdf = spark.createDataFrame([\\\n",
    "#                                                     {'from_node': 123, 'to_node': 456}, \\\n",
    "#                                                     {'from_node': 456, 'to_node': 123}])\n",
    "\n",
    "\n",
    "# TODO: enable this when your function works\n",
    "bfs_sdf.createOrReplaceTempView('bfs')\n",
    "\n",
    "filtered_bfs_sdf = spark.sql('SELECT node FROM bfs WHERE \\\n",
    "                            depth=2 GROUP BY node HAVING COUNT(node) > 1')\n",
    "\n",
    "friend_recommendations_sdf = friend_rec(filtered_bfs_sdf, comments_questions_sdf)"
   ]
  },
  {
   "cell_type": "code",
   "execution_count": 20,
   "metadata": {},
   "outputs": [
    {
     "data": {
      "text/plain": [
       "42"
      ]
     },
     "execution_count": 20,
     "metadata": {},
     "output_type": "execute_result"
    }
   ],
   "source": [
    "filtered_bfs_sdf.count()"
   ]
  },
  {
   "cell_type": "markdown",
   "metadata": {},
   "source": [
    "## Step 4.2 Results"
   ]
  },
  {
   "cell_type": "code",
   "execution_count": 27,
   "metadata": {},
   "outputs": [
    {
     "name": "stdout",
     "output_type": "stream",
     "text": [
      "+-------+-------+\n",
      "|   from|     to|\n",
      "+-------+-------+\n",
      "|  21918| 453447|\n",
      "|  21918|4204628|\n",
      "|  46646| 267679|\n",
      "|  59017|1187554|\n",
      "| 104015|  55503|\n",
      "| 211452|  59017|\n",
      "| 503032|2269511|\n",
      "|1406214| 503032|\n",
      "|2269511|  21918|\n",
      "|3830157| 132640|\n",
      "|4204628|  47550|\n",
      "|  46646|1127460|\n",
      "|  55503| 104015|\n",
      "|  60602|1187554|\n",
      "| 267679|1061543|\n",
      "| 393268| 318811|\n",
      "|1218595|1187554|\n",
      "|1218595|4800193|\n",
      "|  27483|  46646|\n",
      "|  63775|  46646|\n",
      "+-------+-------+\n",
      "only showing top 20 rows\n",
      "\n"
     ]
    }
   ],
   "source": [
    "friend_recommendations_sdf.show()"
   ]
  },
  {
   "cell_type": "code",
   "execution_count": 11,
   "metadata": {},
   "outputs": [
    {
     "data": {
      "text/plain": [
       "1720"
      ]
     },
     "execution_count": 11,
     "metadata": {},
     "output_type": "execute_result"
    }
   ],
   "source": [
    "friend_recommendations_sdf.count()"
   ]
  },
  {
   "cell_type": "markdown",
   "metadata": {},
   "source": [
    "## Step 4.3: Graph visualization"
   ]
  },
  {
   "cell_type": "markdown",
   "metadata": {},
   "source": [
    "### Once you have excecuted the cells in Step 4.2 and you have friend_recommendations_sdf, lets create friend_recommendations_df using toPandas(). This creates an in-memory dataFrame that we can use to build the graph. Here we have used ('from_node','to_node') as column names in friend_recommendations_sdf, please change it to what you have used in yours."
   ]
  },
  {
   "cell_type": "code",
   "execution_count": null,
   "metadata": {},
   "outputs": [],
   "source": [
    "import networkx as nx\n",
    "\n",
    "# TODO: create friend_graph NetworkX graph from friend_recommendations_df from friend_recommendations_sdf\n",
    "friend_rec_df = friend_recommendations_sdf.toPandas()\n"
   ]
  },
  {
   "cell_type": "code",
   "execution_count": 13,
   "metadata": {},
   "outputs": [],
   "source": [
    "friend_graph = nx.from_pandas_dataframe(friend_rec_df, 'from', 'to')"
   ]
  },
  {
   "cell_type": "markdown",
   "metadata": {},
   "source": [
    "## Step 4.3 Results"
   ]
  },
  {
   "cell_type": "code",
   "execution_count": 15,
   "metadata": {},
   "outputs": [
    {
     "name": "stdout",
     "output_type": "stream",
     "text": [
      "Number of nodes (characters) in this graph is 42\n",
      "Number of edges in this graph is 860\n",
      "Graph diameter is 2\n"
     ]
    }
   ],
   "source": [
    "print (\"Number of nodes (characters) in this graph is\", friend_graph.order()) # number of nodes\n",
    "print (\"Number of edges in this graph is\", len(friend_graph.edges())) # number of edges\n",
    "print (\"Graph diameter is\", nx.diameter(friend_graph)) # maximum eccentricity"
   ]
  },
  {
   "cell_type": "code",
   "execution_count": 14,
   "metadata": {},
   "outputs": [
    {
     "data": {
      "image/png": "[encoded data removed]",
      "text/plain": [
       "<matplotlib.figure.Figure at 0x7f48f82387b8>"
      ]
     },
     "metadata": {},
     "output_type": "display_data"
    }
   ],
   "source": [
    " %matplotlib inline\n",
    " nx.draw(friend_graph)"
   ]
  },
  {
   "cell_type": "code",
   "execution_count": null,
   "metadata": {},
   "outputs": [],
   "source": []
  }
 ],
 "metadata": {
  "kernelspec": {
   "display_name": "Python 3",
   "language": "python",
   "name": "python3"
  },
  "language_info": {
   "codemirror_mode": {
    "name": "ipython",
    "version": 3
   },
   "file_extension": ".py",
   "mimetype": "text/x-python",
   "name": "python",
   "nbconvert_exporter": "python",
   "pygments_lexer": "ipython3",
   "version": "3.6.4"
  }
 },
 "nbformat": 4,
 "nbformat_minor": 2
}

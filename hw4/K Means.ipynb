{
 "cells": [
  {
   "cell_type": "markdown",
   "metadata": {},
   "source": [
    "# Homework 4 - K-Means Clustering\n",
    "\n",
    "Here, we will explore the k-means clustering algorithm discussed in class, using the BBC dataset.\n",
    "\n",
    "To help you remember and format your output, we've included some dummy data and cells.  Feel free to remove those or add some more.  Generally you'll want to keep the cells after \"Step x.y Results\"."
   ]
  },
  {
   "cell_type": "markdown",
   "metadata": {},
   "source": [
    "## Data Prep\n",
    "\n",
    "Download the data set. There should be five files. Look at the readme to understand the use of each file. Load the data into a dataframe using any of the files you think are relevant. Columns should be terms and rows should be articles. The resulting dataset should have shape (2225, 9635). Create a pandas series for the class label as well. This will be used at the end of the assignment. "
   ]
  },
  {
   "cell_type": "code",
   "execution_count": 1,
   "metadata": {},
   "outputs": [],
   "source": [
    "import pandas as pd\n",
    "import sklearn\n",
    "import matplotlib.pyplot as plt\n",
    "import numpy as np\n",
    "import scipy.io\n",
    "\n"
   ]
  },
  {
   "cell_type": "code",
   "execution_count": 2,
   "metadata": {},
   "outputs": [],
   "source": [
    "\n",
    "terms = open('bbc.terms').read().splitlines()\n",
    "word_count_matrix = scipy.io.mmread('bbc.mtx').todense().transpose()\n",
    "bbc_df = pd.DataFrame(word_count_matrix, columns = terms)\n",
    "\n",
    "classes = []\n",
    "docIds = []\n",
    "with open('bbc.classes', 'r') as f:\n",
    "    for line in f.read().splitlines():\n",
    "        if (not(line.startswith(\"%\"))):\n",
    "            docIds.append(line.split(\" \")[0])\n",
    "            classes.append(line.split(\" \")[1])\n",
    "            \n",
    "\n",
    "document_class = pd.Series(classes,index = docIds, dtype=int)\n"
   ]
  },
  {
   "cell_type": "code",
   "execution_count": 40,
   "metadata": {},
   "outputs": [
    {
     "data": {
      "text/plain": [
       "0       0\n",
       "1       0\n",
       "2       0\n",
       "3       0\n",
       "4       0\n",
       "5       0\n",
       "6       0\n",
       "7       0\n",
       "8       0\n",
       "9       0\n",
       "10      0\n",
       "11      0\n",
       "12      0\n",
       "13      0\n",
       "14      0\n",
       "15      0\n",
       "16      0\n",
       "17      0\n",
       "18      0\n",
       "19      0\n",
       "20      0\n",
       "21      0\n",
       "22      0\n",
       "23      0\n",
       "24      0\n",
       "25      0\n",
       "26      0\n",
       "27      0\n",
       "28      0\n",
       "29      0\n",
       "       ..\n",
       "2195    4\n",
       "2196    4\n",
       "2197    4\n",
       "2198    4\n",
       "2199    4\n",
       "2200    4\n",
       "2201    4\n",
       "2202    4\n",
       "2203    4\n",
       "2204    4\n",
       "2205    4\n",
       "2206    4\n",
       "2207    4\n",
       "2208    4\n",
       "2209    4\n",
       "2210    4\n",
       "2211    4\n",
       "2212    4\n",
       "2213    4\n",
       "2214    4\n",
       "2215    4\n",
       "2216    4\n",
       "2217    4\n",
       "2218    4\n",
       "2219    4\n",
       "2220    4\n",
       "2221    4\n",
       "2222    4\n",
       "2223    4\n",
       "2224    4\n",
       "dtype: int64"
      ]
     },
     "execution_count": 40,
     "metadata": {},
     "output_type": "execute_result"
    }
   ],
   "source": [
    "document_class"
   ]
  },
  {
   "cell_type": "markdown",
   "metadata": {},
   "source": [
    "## Step 1.1 Results"
   ]
  },
  {
   "cell_type": "code",
   "execution_count": 51,
   "metadata": {},
   "outputs": [
    {
     "data": {
      "text/html": [
       "<div>\n",
       "<table border=\"1\" class=\"dataframe\">\n",
       "  <thead>\n",
       "    <tr style=\"text-align: right;\">\n",
       "      <th></th>\n",
       "      <th>ad</th>\n",
       "      <th>sale</th>\n",
       "      <th>boost</th>\n",
       "      <th>time</th>\n",
       "      <th>warner</th>\n",
       "      <th>profit</th>\n",
       "      <th>quarterli</th>\n",
       "      <th>media</th>\n",
       "      <th>giant</th>\n",
       "      <th>jump</th>\n",
       "      <th>...</th>\n",
       "      <th>£339</th>\n",
       "      <th>denialofservic</th>\n",
       "      <th>ddo</th>\n",
       "      <th>seagrav</th>\n",
       "      <th>bot</th>\n",
       "      <th>wirelessli</th>\n",
       "      <th>streamcast</th>\n",
       "      <th>peripher</th>\n",
       "      <th>headphon</th>\n",
       "      <th>flavour</th>\n",
       "    </tr>\n",
       "  </thead>\n",
       "  <tbody>\n",
       "    <tr>\n",
       "      <th>0</th>\n",
       "      <td>1.0</td>\n",
       "      <td>5.0</td>\n",
       "      <td>2.0</td>\n",
       "      <td>3.0</td>\n",
       "      <td>4.0</td>\n",
       "      <td>10.0</td>\n",
       "      <td>1.0</td>\n",
       "      <td>1.0</td>\n",
       "      <td>1.0</td>\n",
       "      <td>1.0</td>\n",
       "      <td>...</td>\n",
       "      <td>0.0</td>\n",
       "      <td>0.0</td>\n",
       "      <td>0.0</td>\n",
       "      <td>0.0</td>\n",
       "      <td>0.0</td>\n",
       "      <td>0.0</td>\n",
       "      <td>0.0</td>\n",
       "      <td>0.0</td>\n",
       "      <td>0.0</td>\n",
       "      <td>0.0</td>\n",
       "    </tr>\n",
       "    <tr>\n",
       "      <th>1</th>\n",
       "      <td>0.0</td>\n",
       "      <td>0.0</td>\n",
       "      <td>1.0</td>\n",
       "      <td>2.0</td>\n",
       "      <td>0.0</td>\n",
       "      <td>0.0</td>\n",
       "      <td>0.0</td>\n",
       "      <td>0.0</td>\n",
       "      <td>0.0</td>\n",
       "      <td>0.0</td>\n",
       "      <td>...</td>\n",
       "      <td>0.0</td>\n",
       "      <td>0.0</td>\n",
       "      <td>0.0</td>\n",
       "      <td>0.0</td>\n",
       "      <td>0.0</td>\n",
       "      <td>0.0</td>\n",
       "      <td>0.0</td>\n",
       "      <td>0.0</td>\n",
       "      <td>0.0</td>\n",
       "      <td>0.0</td>\n",
       "    </tr>\n",
       "    <tr>\n",
       "      <th>2</th>\n",
       "      <td>0.0</td>\n",
       "      <td>4.0</td>\n",
       "      <td>0.0</td>\n",
       "      <td>0.0</td>\n",
       "      <td>0.0</td>\n",
       "      <td>0.0</td>\n",
       "      <td>0.0</td>\n",
       "      <td>0.0</td>\n",
       "      <td>1.0</td>\n",
       "      <td>0.0</td>\n",
       "      <td>...</td>\n",
       "      <td>0.0</td>\n",
       "      <td>0.0</td>\n",
       "      <td>0.0</td>\n",
       "      <td>0.0</td>\n",
       "      <td>0.0</td>\n",
       "      <td>0.0</td>\n",
       "      <td>0.0</td>\n",
       "      <td>0.0</td>\n",
       "      <td>0.0</td>\n",
       "      <td>0.0</td>\n",
       "    </tr>\n",
       "    <tr>\n",
       "      <th>3</th>\n",
       "      <td>0.0</td>\n",
       "      <td>1.0</td>\n",
       "      <td>0.0</td>\n",
       "      <td>0.0</td>\n",
       "      <td>0.0</td>\n",
       "      <td>4.0</td>\n",
       "      <td>1.0</td>\n",
       "      <td>0.0</td>\n",
       "      <td>0.0</td>\n",
       "      <td>0.0</td>\n",
       "      <td>...</td>\n",
       "      <td>0.0</td>\n",
       "      <td>0.0</td>\n",
       "      <td>0.0</td>\n",
       "      <td>0.0</td>\n",
       "      <td>0.0</td>\n",
       "      <td>0.0</td>\n",
       "      <td>0.0</td>\n",
       "      <td>0.0</td>\n",
       "      <td>0.0</td>\n",
       "      <td>0.0</td>\n",
       "    </tr>\n",
       "    <tr>\n",
       "      <th>4</th>\n",
       "      <td>0.0</td>\n",
       "      <td>0.0</td>\n",
       "      <td>0.0</td>\n",
       "      <td>1.0</td>\n",
       "      <td>0.0</td>\n",
       "      <td>0.0</td>\n",
       "      <td>0.0</td>\n",
       "      <td>0.0</td>\n",
       "      <td>1.0</td>\n",
       "      <td>0.0</td>\n",
       "      <td>...</td>\n",
       "      <td>0.0</td>\n",
       "      <td>0.0</td>\n",
       "      <td>0.0</td>\n",
       "      <td>0.0</td>\n",
       "      <td>0.0</td>\n",
       "      <td>0.0</td>\n",
       "      <td>0.0</td>\n",
       "      <td>0.0</td>\n",
       "      <td>0.0</td>\n",
       "      <td>0.0</td>\n",
       "    </tr>\n",
       "  </tbody>\n",
       "</table>\n",
       "<p>5 rows × 9635 columns</p>\n",
       "</div>"
      ],
      "text/plain": [
       "    ad  sale  boost  time  warner  profit  quarterli  media  giant  jump  \\\n",
       "0  1.0   5.0    2.0   3.0     4.0    10.0        1.0    1.0    1.0   1.0   \n",
       "1  0.0   0.0    1.0   2.0     0.0     0.0        0.0    0.0    0.0   0.0   \n",
       "2  0.0   4.0    0.0   0.0     0.0     0.0        0.0    0.0    1.0   0.0   \n",
       "3  0.0   1.0    0.0   0.0     0.0     4.0        1.0    0.0    0.0   0.0   \n",
       "4  0.0   0.0    0.0   1.0     0.0     0.0        0.0    0.0    1.0   0.0   \n",
       "\n",
       "    ...     £339  denialofservic  ddo  seagrav  bot  wirelessli  streamcast  \\\n",
       "0   ...      0.0             0.0  0.0      0.0  0.0         0.0         0.0   \n",
       "1   ...      0.0             0.0  0.0      0.0  0.0         0.0         0.0   \n",
       "2   ...      0.0             0.0  0.0      0.0  0.0         0.0         0.0   \n",
       "3   ...      0.0             0.0  0.0      0.0  0.0         0.0         0.0   \n",
       "4   ...      0.0             0.0  0.0      0.0  0.0         0.0         0.0   \n",
       "\n",
       "   peripher  headphon  flavour  \n",
       "0       0.0       0.0      0.0  \n",
       "1       0.0       0.0      0.0  \n",
       "2       0.0       0.0      0.0  \n",
       "3       0.0       0.0      0.0  \n",
       "4       0.0       0.0      0.0  \n",
       "\n",
       "[5 rows x 9635 columns]"
      ]
     },
     "execution_count": 51,
     "metadata": {},
     "output_type": "execute_result"
    }
   ],
   "source": [
    "bbc_df.head()"
   ]
  },
  {
   "cell_type": "code",
   "execution_count": 52,
   "metadata": {},
   "outputs": [
    {
     "data": {
      "text/plain": [
       "0       0\n",
       "1       0\n",
       "2       0\n",
       "3       0\n",
       "4       0\n",
       "5       0\n",
       "6       0\n",
       "7       0\n",
       "8       0\n",
       "9       0\n",
       "10      0\n",
       "11      0\n",
       "12      0\n",
       "13      0\n",
       "14      0\n",
       "15      0\n",
       "16      0\n",
       "17      0\n",
       "18      0\n",
       "19      0\n",
       "20      0\n",
       "21      0\n",
       "22      0\n",
       "23      0\n",
       "24      0\n",
       "25      0\n",
       "26      0\n",
       "27      0\n",
       "28      0\n",
       "29      0\n",
       "       ..\n",
       "2195    4\n",
       "2196    4\n",
       "2197    4\n",
       "2198    4\n",
       "2199    4\n",
       "2200    4\n",
       "2201    4\n",
       "2202    4\n",
       "2203    4\n",
       "2204    4\n",
       "2205    4\n",
       "2206    4\n",
       "2207    4\n",
       "2208    4\n",
       "2209    4\n",
       "2210    4\n",
       "2211    4\n",
       "2212    4\n",
       "2213    4\n",
       "2214    4\n",
       "2215    4\n",
       "2216    4\n",
       "2217    4\n",
       "2218    4\n",
       "2219    4\n",
       "2220    4\n",
       "2221    4\n",
       "2222    4\n",
       "2223    4\n",
       "2224    4\n",
       "dtype: int64"
      ]
     },
     "execution_count": 52,
     "metadata": {},
     "output_type": "execute_result"
    }
   ],
   "source": [
    "document_class"
   ]
  },
  {
   "cell_type": "markdown",
   "metadata": {},
   "source": [
    "## Step 1.2: Computing K-Means Clusters"
   ]
  },
  {
   "cell_type": "code",
   "execution_count": 3,
   "metadata": {},
   "outputs": [],
   "source": [
    "from sklearn.cluster import KMeans"
   ]
  },
  {
   "cell_type": "code",
   "execution_count": 4,
   "metadata": {},
   "outputs": [],
   "source": [
    "def getDistortion(data_matrix, num_clusters):\n",
    "    km = KMeans(num_clusters, max_iter=300, random_state=0, n_init=30, init='random')\n",
    "    km.fit(data_matrix)\n",
    "    return km.inertia_\n"
   ]
  },
  {
   "cell_type": "code",
   "execution_count": 92,
   "metadata": {},
   "outputs": [
    {
     "name": "stdout",
     "output_type": "stream",
     "text": [
      "2/11 num_clusters done\n",
      "3/11 num_clusters done\n",
      "4/11 num_clusters done\n",
      "5/11 num_clusters done\n",
      "6/11 num_clusters done\n",
      "7/11 num_clusters done\n",
      "8/11 num_clusters done\n",
      "9/11 num_clusters done\n",
      "10/11 num_clusters done\n"
     ]
    },
    {
     "data": {
      "image/png": "[encoded data removed]",
      "text/plain": [
       "<matplotlib.figure.Figure at 0x7f8927061dd8>"
      ]
     },
     "metadata": {},
     "output_type": "display_data"
    }
   ],
   "source": [
    "distortions = [None, None]\n",
    "data = bbc_df.as_matrix()\n",
    "for i in range(2,11):\n",
    "    distortions.append(getDistortion(data, i))\n",
    "    print(str(i) + \"/%s num_clusters done\" % 10)\n",
    "plt.plot(distortions)\n",
    "plt.show()"
   ]
  },
  {
   "cell_type": "markdown",
   "metadata": {},
   "source": [
    "## Step 1.2 Results\n",
    "\n",
    "Update the first cell with just the numeric value of k and in the second cell output the distortions. The distortions should be a list where the index corresponds to the total distortion using that number of clusters (first two elements should be None since clustering using zero or one clusters doesn't make much sense). \n",
    "Example: [None, None, 100, 90, 80, 70, 60, 50, 40, 30, 20]. (Note that your list should have 11 elements.)"
   ]
  },
  {
   "cell_type": "raw",
   "metadata": {},
   "source": [
    "10"
   ]
  },
  {
   "cell_type": "code",
   "execution_count": 93,
   "metadata": {},
   "outputs": [
    {
     "data": {
      "text/plain": [
       "[None,\n",
       " None,\n",
       " 1070889.8681838671,\n",
       " 1051938.5474288887,\n",
       " 1035834.9386071024,\n",
       " 1024659.7688110314,\n",
       " 1014414.0501342831,\n",
       " 999965.29646604729,\n",
       " 990088.66911816795,\n",
       " 985420.27479406528,\n",
       " 975103.74528361089]"
      ]
     },
     "execution_count": 93,
     "metadata": {},
     "output_type": "execute_result"
    }
   ],
   "source": [
    "# Output Distortions\n",
    "distortions"
   ]
  },
  {
   "cell_type": "markdown",
   "metadata": {},
   "source": [
    "## Step 1.3: Feature Scaling"
   ]
  },
  {
   "cell_type": "code",
   "execution_count": 94,
   "metadata": {},
   "outputs": [
    {
     "name": "stdout",
     "output_type": "stream",
     "text": [
      "2/11 num_clusters done\n",
      "3/11 num_clusters done\n",
      "4/11 num_clusters done\n",
      "5/11 num_clusters done\n",
      "6/11 num_clusters done\n",
      "7/11 num_clusters done\n",
      "8/11 num_clusters done\n",
      "9/11 num_clusters done\n",
      "10/11 num_clusters done\n"
     ]
    },
    {
     "data": {
      "image/png": "[encoded data removed]",
      "text/plain": [
       "<matplotlib.figure.Figure at 0x7f89270e7dd8>"
      ]
     },
     "metadata": {},
     "output_type": "display_data"
    }
   ],
   "source": [
    "from sklearn import preprocessing\n",
    "\n",
    "min_max_scaler = preprocessing.MinMaxScaler()\n",
    "data = bbc_df.as_matrix()\n",
    "data_scaled = min_max_scaler.fit_transform(data)\n",
    "\n",
    "distortions_min_max = [None, None]\n",
    "\n",
    "for i in range(2,11):\n",
    "    distortions_min_max.append(getDistortion(data_scaled, i))\n",
    "    print(str(i) + \"/%s num_clusters done\" % 10)\n",
    "plt.plot(distortions_min_max)\n",
    "plt.show()"
   ]
  },
  {
   "cell_type": "code",
   "execution_count": null,
   "metadata": {},
   "outputs": [],
   "source": []
  },
  {
   "cell_type": "code",
   "execution_count": 5,
   "metadata": {},
   "outputs": [
    {
     "name": "stdout",
     "output_type": "stream",
     "text": [
      "2/10 num_clusters done\n",
      "3/10 num_clusters done\n",
      "4/10 num_clusters done\n",
      "5/10 num_clusters done\n",
      "6/10 num_clusters done\n",
      "7/10 num_clusters done\n",
      "8/10 num_clusters done\n",
      "9/10 num_clusters done\n",
      "10/10 num_clusters done\n"
     ]
    },
    {
     "data": {
      "image/png": "[encoded data removed]",
      "text/plain": [
       "<matplotlib.figure.Figure at 0x7f3bbdd04278>"
      ]
     },
     "metadata": {},
     "output_type": "display_data"
    }
   ],
   "source": [
    "bool_df = bbc_df.astype(bool).astype(int)\n",
    "data_bool = bool_df.as_matrix()\n",
    "\n",
    "distortions_bool = [None, None]\n",
    "\n",
    "for i in range(2,11):\n",
    "    distortions_bool.append(getDistortion(data_bool, i))\n",
    "    print(str(i) + \"/%s num_clusters done\" % 10)\n",
    "plt.plot(distortions_bool)\n",
    "plt.show()"
   ]
  },
  {
   "cell_type": "code",
   "execution_count": null,
   "metadata": {},
   "outputs": [],
   "source": []
  },
  {
   "cell_type": "markdown",
   "metadata": {},
   "source": [
    "## Step 1.3 Results\n",
    "Enter the value for k below. In the next two cells output the distortions of the scaled and then binary features follwoing the same instructions as above."
   ]
  },
  {
   "cell_type": "raw",
   "metadata": {},
   "source": [
    "5"
   ]
  },
  {
   "cell_type": "code",
   "execution_count": 95,
   "metadata": {},
   "outputs": [
    {
     "data": {
      "text/plain": [
       "[None,\n",
       " None,\n",
       " 52126.321592112996,\n",
       " 51914.913496705696,\n",
       " 51816.863743916903,\n",
       " 51667.194738693717,\n",
       " 51652.812150477177,\n",
       " 51631.921171240996,\n",
       " 51503.498798472858,\n",
       " 51427.900834439955,\n",
       " 51411.311880990936]"
      ]
     },
     "execution_count": 95,
     "metadata": {},
     "output_type": "execute_result"
    }
   ],
   "source": [
    "# Output Scaled Distortions\n",
    "distortions_min_max"
   ]
  },
  {
   "cell_type": "code",
   "execution_count": 6,
   "metadata": {},
   "outputs": [
    {
     "data": {
      "text/plain": [
       "[None,\n",
       " None,\n",
       " 260116.6405640911,\n",
       " 257490.02839872747,\n",
       " 255131.80428279497,\n",
       " 253287.96490233613,\n",
       " 253108.71214907069,\n",
       " 252615.22843548973,\n",
       " 252429.05559717535,\n",
       " 251539.08186750309,\n",
       " 250960.96576807476]"
      ]
     },
     "execution_count": 6,
     "metadata": {},
     "output_type": "execute_result"
    }
   ],
   "source": [
    "# Output Binary Distortions\n",
    "distortions_bool"
   ]
  },
  {
   "cell_type": "markdown",
   "metadata": {},
   "source": [
    "## Step 1.4: Dimensionality Reduction via PCA"
   ]
  },
  {
   "cell_type": "code",
   "execution_count": 7,
   "metadata": {},
   "outputs": [
    {
     "data": {
      "text/plain": [
       "PCA(copy=True, iterated_power='auto', n_components=1000, random_state=None,\n",
       "  svd_solver='auto', tol=0.0, whiten=False)"
      ]
     },
     "execution_count": 7,
     "metadata": {},
     "output_type": "execute_result"
    }
   ],
   "source": [
    "from sklearn.decomposition import PCA\n",
    "pca_model = PCA(n_components = 1000)\n",
    "pca_model.fit(data_bool)\n"
   ]
  },
  {
   "cell_type": "code",
   "execution_count": 13,
   "metadata": {},
   "outputs": [
    {
     "data": {
      "image/png": "[encoded data removed]",
      "text/plain": [
       "<matplotlib.figure.Figure at 0x7f3bbc2f35f8>"
      ]
     },
     "metadata": {},
     "output_type": "display_data"
    }
   ],
   "source": [
    "cv=np.cumsum(np.round(pca_model.explained_variance_ratio_,decimals=3)*100)\n",
    "\n",
    "plt.plot(range(1, 1001),cv)\n",
    "plt.xlabel('Num Featues')\n",
    "plt.ylabel('CV')\n",
    "\n",
    "plt.show()"
   ]
  },
  {
   "cell_type": "code",
   "execution_count": 14,
   "metadata": {},
   "outputs": [
    {
     "data": {
      "text/plain": [
       "PCA(copy=True, iterated_power='auto', n_components=600, random_state=None,\n",
       "  svd_solver='auto', tol=0.0, whiten=False)"
      ]
     },
     "execution_count": 14,
     "metadata": {},
     "output_type": "execute_result"
    }
   ],
   "source": [
    "# TODO: Re-run PCA with the \"correct\" number of features and then run K-means in one the PCA transformed data.\n",
    "n_features = 600\n",
    "pca_model_correct = PCA(n_components = n_features)\n",
    "pca_model_correct.fit(data_bool)\n"
   ]
  },
  {
   "cell_type": "code",
   "execution_count": 21,
   "metadata": {},
   "outputs": [
    {
     "name": "stdout",
     "output_type": "stream",
     "text": [
      "2/10 num_clusters done\n",
      "3/10 num_clusters done\n",
      "4/10 num_clusters done\n",
      "5/10 num_clusters done\n",
      "6/10 num_clusters done\n",
      "7/10 num_clusters done\n",
      "8/10 num_clusters done\n",
      "9/10 num_clusters done\n",
      "10/10 num_clusters done\n"
     ]
    },
    {
     "data": {
      "image/png": "[encoded data removed]",
      "text/plain": [
       "<matplotlib.figure.Figure at 0x7f3bbc234400>"
      ]
     },
     "metadata": {},
     "output_type": "display_data"
    }
   ],
   "source": [
    "data_pca = pca_model_correct.transform(data_bool)\n",
    "distortions_pca = [None, None]\n",
    "\n",
    "for i in range(2,11):\n",
    "    distortions_pca.append(getDistortion(data_pca, i))\n",
    "    print(str(i) + \"/%s num_clusters done\" % 10)\n",
    "plt.plot(distortions_pca)\n",
    "plt.show()"
   ]
  },
  {
   "cell_type": "markdown",
   "metadata": {},
   "source": [
    "## Step 1.4 Results\n",
    "Enter the number of features in the next cell, then the value of k for the following cell."
   ]
  },
  {
   "cell_type": "raw",
   "metadata": {},
   "source": [
    "600"
   ]
  },
  {
   "cell_type": "raw",
   "metadata": {},
   "source": [
    "5"
   ]
  },
  {
   "cell_type": "code",
   "execution_count": 22,
   "metadata": {},
   "outputs": [
    {
     "data": {
      "text/plain": [
       "[None,\n",
       " None,\n",
       " 190125.43351221664,\n",
       " 187502.85249460305,\n",
       " 185109.87174296877,\n",
       " 183322.03328883869,\n",
       " 182400.95526654267,\n",
       " 181939.38633888753,\n",
       " 181385.41111545177,\n",
       " 181053.90969779345,\n",
       " 180881.6486493104]"
      ]
     },
     "execution_count": 22,
     "metadata": {},
     "output_type": "execute_result"
    }
   ],
   "source": [
    "distortions_pca"
   ]
  },
  {
   "cell_type": "markdown",
   "metadata": {},
   "source": [
    "## Step 1.5: Evaluating Cluster Results\n",
    "Rerun K-means with your best results and lets compare to the actual given class. One issue is that the cluster labels will not line up with your class names so we will need to map cluster labels to the class label"
   ]
  },
  {
   "cell_type": "code",
   "execution_count": 87,
   "metadata": {},
   "outputs": [
    {
     "data": {
      "text/plain": [
       "KMeans(algorithm='auto', copy_x=True, init='random', max_iter=300,\n",
       "    n_clusters=5, n_init=30, n_jobs=1, precompute_distances='auto',\n",
       "    random_state=0, tol=0.0001, verbose=0)"
      ]
     },
     "execution_count": 87,
     "metadata": {},
     "output_type": "execute_result"
    }
   ],
   "source": [
    "from statistics import mode\n",
    "from sklearn import preprocessing\n",
    "\n",
    "min_max_scaler = preprocessing.MinMaxScaler()\n",
    "data = bbc_df.as_matrix()\n",
    "data_scaled = min_max_scaler.fit_transform(data_scaled)\n",
    "km = KMeans(5, max_iter=300, random_state=0, n_init=30, init='random')\n",
    "km.fit(data_scaled)"
   ]
  },
  {
   "cell_type": "code",
   "execution_count": 88,
   "metadata": {},
   "outputs": [
    {
     "data": {
      "text/plain": [
       "0.6530337078651686"
      ]
     },
     "execution_count": 88,
     "metadata": {},
     "output_type": "execute_result"
    }
   ],
   "source": [
    "clusters_df = pd.DataFrame(km.labels_,  dtype=int).reset_index()\n",
    "clusters_df.columns = ['Doc', 'Cluster']\n",
    "clusters_df['Real'] = document_class.values\n",
    "\n",
    "\n",
    "\n",
    "clusters_df['Predicted'] = clusters_df.apply(\n",
    "    lambda row: mode(document_class[(clusters_df['Cluster']==row['Cluster']).values].values), axis=1).values\n",
    "    \n",
    "\n",
    "misclassified = clusters_df[clusters_df['Predicted'] != clusters_df['Real']]\n",
    "misclassified_ratio = misclassified.shape[0]/data_scaled.shape[0]\n",
    "misclassified_ratio"
   ]
  },
  {
   "cell_type": "code",
   "execution_count": null,
   "metadata": {},
   "outputs": [],
   "source": []
  },
  {
   "cell_type": "markdown",
   "metadata": {},
   "source": [
    "Let's see how well the classifier works on the training data. Determine which data points are incorrectly labeled by the classifier."
   ]
  },
  {
   "cell_type": "code",
   "execution_count": 95,
   "metadata": {},
   "outputs": [
    {
     "data": {
      "text/html": [
       "<div>\n",
       "<table border=\"1\" class=\"dataframe\">\n",
       "  <thead>\n",
       "    <tr style=\"text-align: right;\">\n",
       "      <th></th>\n",
       "      <th>Doc</th>\n",
       "      <th>Real</th>\n",
       "      <th>Predicted</th>\n",
       "    </tr>\n",
       "  </thead>\n",
       "  <tbody>\n",
       "    <tr>\n",
       "      <th>0</th>\n",
       "      <td>0</td>\n",
       "      <td>0</td>\n",
       "      <td>3</td>\n",
       "    </tr>\n",
       "    <tr>\n",
       "      <th>1</th>\n",
       "      <td>1</td>\n",
       "      <td>0</td>\n",
       "      <td>3</td>\n",
       "    </tr>\n",
       "    <tr>\n",
       "      <th>2</th>\n",
       "      <td>2</td>\n",
       "      <td>0</td>\n",
       "      <td>3</td>\n",
       "    </tr>\n",
       "    <tr>\n",
       "      <th>3</th>\n",
       "      <td>3</td>\n",
       "      <td>0</td>\n",
       "      <td>3</td>\n",
       "    </tr>\n",
       "    <tr>\n",
       "      <th>4</th>\n",
       "      <td>4</td>\n",
       "      <td>0</td>\n",
       "      <td>3</td>\n",
       "    </tr>\n",
       "    <tr>\n",
       "      <th>5</th>\n",
       "      <td>5</td>\n",
       "      <td>0</td>\n",
       "      <td>3</td>\n",
       "    </tr>\n",
       "    <tr>\n",
       "      <th>6</th>\n",
       "      <td>6</td>\n",
       "      <td>0</td>\n",
       "      <td>3</td>\n",
       "    </tr>\n",
       "    <tr>\n",
       "      <th>7</th>\n",
       "      <td>7</td>\n",
       "      <td>0</td>\n",
       "      <td>3</td>\n",
       "    </tr>\n",
       "    <tr>\n",
       "      <th>8</th>\n",
       "      <td>8</td>\n",
       "      <td>0</td>\n",
       "      <td>3</td>\n",
       "    </tr>\n",
       "    <tr>\n",
       "      <th>9</th>\n",
       "      <td>9</td>\n",
       "      <td>0</td>\n",
       "      <td>3</td>\n",
       "    </tr>\n",
       "    <tr>\n",
       "      <th>10</th>\n",
       "      <td>10</td>\n",
       "      <td>0</td>\n",
       "      <td>3</td>\n",
       "    </tr>\n",
       "    <tr>\n",
       "      <th>11</th>\n",
       "      <td>11</td>\n",
       "      <td>0</td>\n",
       "      <td>3</td>\n",
       "    </tr>\n",
       "    <tr>\n",
       "      <th>12</th>\n",
       "      <td>12</td>\n",
       "      <td>0</td>\n",
       "      <td>3</td>\n",
       "    </tr>\n",
       "    <tr>\n",
       "      <th>13</th>\n",
       "      <td>13</td>\n",
       "      <td>0</td>\n",
       "      <td>2</td>\n",
       "    </tr>\n",
       "    <tr>\n",
       "      <th>14</th>\n",
       "      <td>14</td>\n",
       "      <td>0</td>\n",
       "      <td>2</td>\n",
       "    </tr>\n",
       "    <tr>\n",
       "      <th>15</th>\n",
       "      <td>15</td>\n",
       "      <td>0</td>\n",
       "      <td>3</td>\n",
       "    </tr>\n",
       "    <tr>\n",
       "      <th>16</th>\n",
       "      <td>16</td>\n",
       "      <td>0</td>\n",
       "      <td>3</td>\n",
       "    </tr>\n",
       "    <tr>\n",
       "      <th>17</th>\n",
       "      <td>17</td>\n",
       "      <td>0</td>\n",
       "      <td>3</td>\n",
       "    </tr>\n",
       "    <tr>\n",
       "      <th>18</th>\n",
       "      <td>18</td>\n",
       "      <td>0</td>\n",
       "      <td>3</td>\n",
       "    </tr>\n",
       "    <tr>\n",
       "      <th>19</th>\n",
       "      <td>19</td>\n",
       "      <td>0</td>\n",
       "      <td>2</td>\n",
       "    </tr>\n",
       "    <tr>\n",
       "      <th>20</th>\n",
       "      <td>20</td>\n",
       "      <td>0</td>\n",
       "      <td>3</td>\n",
       "    </tr>\n",
       "    <tr>\n",
       "      <th>21</th>\n",
       "      <td>21</td>\n",
       "      <td>0</td>\n",
       "      <td>3</td>\n",
       "    </tr>\n",
       "    <tr>\n",
       "      <th>22</th>\n",
       "      <td>22</td>\n",
       "      <td>0</td>\n",
       "      <td>3</td>\n",
       "    </tr>\n",
       "    <tr>\n",
       "      <th>23</th>\n",
       "      <td>23</td>\n",
       "      <td>0</td>\n",
       "      <td>3</td>\n",
       "    </tr>\n",
       "    <tr>\n",
       "      <th>24</th>\n",
       "      <td>24</td>\n",
       "      <td>0</td>\n",
       "      <td>3</td>\n",
       "    </tr>\n",
       "    <tr>\n",
       "      <th>25</th>\n",
       "      <td>25</td>\n",
       "      <td>0</td>\n",
       "      <td>3</td>\n",
       "    </tr>\n",
       "    <tr>\n",
       "      <th>26</th>\n",
       "      <td>26</td>\n",
       "      <td>0</td>\n",
       "      <td>3</td>\n",
       "    </tr>\n",
       "    <tr>\n",
       "      <th>27</th>\n",
       "      <td>27</td>\n",
       "      <td>0</td>\n",
       "      <td>3</td>\n",
       "    </tr>\n",
       "    <tr>\n",
       "      <th>28</th>\n",
       "      <td>28</td>\n",
       "      <td>0</td>\n",
       "      <td>3</td>\n",
       "    </tr>\n",
       "    <tr>\n",
       "      <th>29</th>\n",
       "      <td>29</td>\n",
       "      <td>0</td>\n",
       "      <td>3</td>\n",
       "    </tr>\n",
       "    <tr>\n",
       "      <th>...</th>\n",
       "      <td>...</td>\n",
       "      <td>...</td>\n",
       "      <td>...</td>\n",
       "    </tr>\n",
       "    <tr>\n",
       "      <th>2195</th>\n",
       "      <td>2195</td>\n",
       "      <td>4</td>\n",
       "      <td>3</td>\n",
       "    </tr>\n",
       "    <tr>\n",
       "      <th>2196</th>\n",
       "      <td>2196</td>\n",
       "      <td>4</td>\n",
       "      <td>2</td>\n",
       "    </tr>\n",
       "    <tr>\n",
       "      <th>2197</th>\n",
       "      <td>2197</td>\n",
       "      <td>4</td>\n",
       "      <td>3</td>\n",
       "    </tr>\n",
       "    <tr>\n",
       "      <th>2198</th>\n",
       "      <td>2198</td>\n",
       "      <td>4</td>\n",
       "      <td>3</td>\n",
       "    </tr>\n",
       "    <tr>\n",
       "      <th>2199</th>\n",
       "      <td>2199</td>\n",
       "      <td>4</td>\n",
       "      <td>2</td>\n",
       "    </tr>\n",
       "    <tr>\n",
       "      <th>2200</th>\n",
       "      <td>2200</td>\n",
       "      <td>4</td>\n",
       "      <td>2</td>\n",
       "    </tr>\n",
       "    <tr>\n",
       "      <th>2201</th>\n",
       "      <td>2201</td>\n",
       "      <td>4</td>\n",
       "      <td>2</td>\n",
       "    </tr>\n",
       "    <tr>\n",
       "      <th>2202</th>\n",
       "      <td>2202</td>\n",
       "      <td>4</td>\n",
       "      <td>2</td>\n",
       "    </tr>\n",
       "    <tr>\n",
       "      <th>2203</th>\n",
       "      <td>2203</td>\n",
       "      <td>4</td>\n",
       "      <td>3</td>\n",
       "    </tr>\n",
       "    <tr>\n",
       "      <th>2204</th>\n",
       "      <td>2204</td>\n",
       "      <td>4</td>\n",
       "      <td>2</td>\n",
       "    </tr>\n",
       "    <tr>\n",
       "      <th>2205</th>\n",
       "      <td>2205</td>\n",
       "      <td>4</td>\n",
       "      <td>2</td>\n",
       "    </tr>\n",
       "    <tr>\n",
       "      <th>2206</th>\n",
       "      <td>2206</td>\n",
       "      <td>4</td>\n",
       "      <td>2</td>\n",
       "    </tr>\n",
       "    <tr>\n",
       "      <th>2207</th>\n",
       "      <td>2207</td>\n",
       "      <td>4</td>\n",
       "      <td>2</td>\n",
       "    </tr>\n",
       "    <tr>\n",
       "      <th>2208</th>\n",
       "      <td>2208</td>\n",
       "      <td>4</td>\n",
       "      <td>3</td>\n",
       "    </tr>\n",
       "    <tr>\n",
       "      <th>2209</th>\n",
       "      <td>2209</td>\n",
       "      <td>4</td>\n",
       "      <td>2</td>\n",
       "    </tr>\n",
       "    <tr>\n",
       "      <th>2210</th>\n",
       "      <td>2210</td>\n",
       "      <td>4</td>\n",
       "      <td>3</td>\n",
       "    </tr>\n",
       "    <tr>\n",
       "      <th>2211</th>\n",
       "      <td>2211</td>\n",
       "      <td>4</td>\n",
       "      <td>2</td>\n",
       "    </tr>\n",
       "    <tr>\n",
       "      <th>2212</th>\n",
       "      <td>2212</td>\n",
       "      <td>4</td>\n",
       "      <td>2</td>\n",
       "    </tr>\n",
       "    <tr>\n",
       "      <th>2213</th>\n",
       "      <td>2213</td>\n",
       "      <td>4</td>\n",
       "      <td>3</td>\n",
       "    </tr>\n",
       "    <tr>\n",
       "      <th>2214</th>\n",
       "      <td>2214</td>\n",
       "      <td>4</td>\n",
       "      <td>2</td>\n",
       "    </tr>\n",
       "    <tr>\n",
       "      <th>2215</th>\n",
       "      <td>2215</td>\n",
       "      <td>4</td>\n",
       "      <td>2</td>\n",
       "    </tr>\n",
       "    <tr>\n",
       "      <th>2216</th>\n",
       "      <td>2216</td>\n",
       "      <td>4</td>\n",
       "      <td>2</td>\n",
       "    </tr>\n",
       "    <tr>\n",
       "      <th>2217</th>\n",
       "      <td>2217</td>\n",
       "      <td>4</td>\n",
       "      <td>2</td>\n",
       "    </tr>\n",
       "    <tr>\n",
       "      <th>2218</th>\n",
       "      <td>2218</td>\n",
       "      <td>4</td>\n",
       "      <td>2</td>\n",
       "    </tr>\n",
       "    <tr>\n",
       "      <th>2219</th>\n",
       "      <td>2219</td>\n",
       "      <td>4</td>\n",
       "      <td>2</td>\n",
       "    </tr>\n",
       "    <tr>\n",
       "      <th>2220</th>\n",
       "      <td>2220</td>\n",
       "      <td>4</td>\n",
       "      <td>2</td>\n",
       "    </tr>\n",
       "    <tr>\n",
       "      <th>2221</th>\n",
       "      <td>2221</td>\n",
       "      <td>4</td>\n",
       "      <td>2</td>\n",
       "    </tr>\n",
       "    <tr>\n",
       "      <th>2222</th>\n",
       "      <td>2222</td>\n",
       "      <td>4</td>\n",
       "      <td>2</td>\n",
       "    </tr>\n",
       "    <tr>\n",
       "      <th>2223</th>\n",
       "      <td>2223</td>\n",
       "      <td>4</td>\n",
       "      <td>3</td>\n",
       "    </tr>\n",
       "    <tr>\n",
       "      <th>2224</th>\n",
       "      <td>2224</td>\n",
       "      <td>4</td>\n",
       "      <td>2</td>\n",
       "    </tr>\n",
       "  </tbody>\n",
       "</table>\n",
       "<p>1453 rows × 3 columns</p>\n",
       "</div>"
      ],
      "text/plain": [
       "       Doc  Real  Predicted\n",
       "0        0     0          3\n",
       "1        1     0          3\n",
       "2        2     0          3\n",
       "3        3     0          3\n",
       "4        4     0          3\n",
       "5        5     0          3\n",
       "6        6     0          3\n",
       "7        7     0          3\n",
       "8        8     0          3\n",
       "9        9     0          3\n",
       "10      10     0          3\n",
       "11      11     0          3\n",
       "12      12     0          3\n",
       "13      13     0          2\n",
       "14      14     0          2\n",
       "15      15     0          3\n",
       "16      16     0          3\n",
       "17      17     0          3\n",
       "18      18     0          3\n",
       "19      19     0          2\n",
       "20      20     0          3\n",
       "21      21     0          3\n",
       "22      22     0          3\n",
       "23      23     0          3\n",
       "24      24     0          3\n",
       "25      25     0          3\n",
       "26      26     0          3\n",
       "27      27     0          3\n",
       "28      28     0          3\n",
       "29      29     0          3\n",
       "...    ...   ...        ...\n",
       "2195  2195     4          3\n",
       "2196  2196     4          2\n",
       "2197  2197     4          3\n",
       "2198  2198     4          3\n",
       "2199  2199     4          2\n",
       "2200  2200     4          2\n",
       "2201  2201     4          2\n",
       "2202  2202     4          2\n",
       "2203  2203     4          3\n",
       "2204  2204     4          2\n",
       "2205  2205     4          2\n",
       "2206  2206     4          2\n",
       "2207  2207     4          2\n",
       "2208  2208     4          3\n",
       "2209  2209     4          2\n",
       "2210  2210     4          3\n",
       "2211  2211     4          2\n",
       "2212  2212     4          2\n",
       "2213  2213     4          3\n",
       "2214  2214     4          2\n",
       "2215  2215     4          2\n",
       "2216  2216     4          2\n",
       "2217  2217     4          2\n",
       "2218  2218     4          2\n",
       "2219  2219     4          2\n",
       "2220  2220     4          2\n",
       "2221  2221     4          2\n",
       "2222  2222     4          2\n",
       "2223  2223     4          3\n",
       "2224  2224     4          2\n",
       "\n",
       "[1453 rows x 3 columns]"
      ]
     },
     "execution_count": 95,
     "metadata": {},
     "output_type": "execute_result"
    }
   ],
   "source": [
    "misclassified.drop('Cluster', 1)"
   ]
  },
  {
   "cell_type": "markdown",
   "metadata": {},
   "source": [
    "## Step 1.5 Results\n",
    "This time, enter the ratio between the number of misclassifications and the total number of rows."
   ]
  },
  {
   "cell_type": "raw",
   "metadata": {},
   "source": [
    "0.6530337078651686"
   ]
  },
  {
   "cell_type": "code",
   "execution_count": null,
   "metadata": {},
   "outputs": [],
   "source": []
  },
  {
   "cell_type": "code",
   "execution_count": null,
   "metadata": {},
   "outputs": [],
   "source": []
  },
  {
   "cell_type": "code",
   "execution_count": null,
   "metadata": {},
   "outputs": [],
   "source": []
  }
 ],
 "metadata": {
  "kernelspec": {
   "display_name": "Python 3",
   "language": "python",
   "name": "python3"
  },
  "language_info": {
   "codemirror_mode": {
    "name": "ipython",
    "version": 3
   },
   "file_extension": ".py",
   "mimetype": "text/x-python",
   "name": "python",
   "nbconvert_exporter": "python",
   "pygments_lexer": "ipython3",
   "version": "3.6.4"
  }
 },
 "nbformat": 4,
 "nbformat_minor": 2
}

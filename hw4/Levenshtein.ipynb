{
 "cells": [
  {
   "cell_type": "code",
   "execution_count": 1,
   "metadata": {},
   "outputs": [],
   "source": [
    "groups = {'G' :0 , 'A': 0, 'V': 0, 'L':0, 'I':0, \n",
    "         'S': 1, 'C':1, 'T':1, 'M':1,\n",
    "         'P': 2,\n",
    "         'F' : 3, 'W':3, 'Y':3,\n",
    "         'H' :4 , 'K':4, 'R':4,\n",
    "         'D':5, 'E' :5, 'N':5, 'Q' :5}"
   ]
  },
  {
   "cell_type": "code",
   "execution_count": 63,
   "metadata": {},
   "outputs": [],
   "source": [
    "def sub_cost(aa1, aa2):\n",
    "    if (aa1==aa2): return 0\n",
    "    if (aa1 == 'X' or aa2=='X'): return 1\n",
    "    if (groups[aa1] == groups[aa2]): return 1        \n",
    "    return 2"
   ]
  },
  {
   "cell_type": "code",
   "execution_count": 82,
   "metadata": {},
   "outputs": [],
   "source": [
    "def levenshtein(s1, s2):\n",
    "    if len(s1) < len(s2):\n",
    "        return levenshtein(s2, s1)\n",
    "\n",
    "    # len(s1) >= len(s2)\n",
    "    if len(s2) == 0:\n",
    "        return len(s1)\n",
    "\n",
    "    previous_row = range(len(s2) + 1)\n",
    "    for i, c1 in enumerate(s1):\n",
    "        current_row = [i + 1]\n",
    "        for j, c2 in enumerate(s2):\n",
    "            insertions = previous_row[j + 1] + 1 # j+1 instead of j since previous_row and current_row are one character longer\n",
    "            deletions = current_row[j] + 1       # than s2\n",
    "            substitutions = previous_row[j] + sub_cost(c1, c2)\n",
    "            current_row.append(min(insertions, deletions, substitutions))\n",
    "        previous_row = current_row\n",
    "    \n",
    "    return previous_row[-1]\n",
    "\n",
    "# def list_to_string(l):\n",
    "#     s = \"\"\n",
    "#     for c in l:\n",
    "#         s+= c\n",
    "#     return s"
   ]
  },
  {
   "cell_type": "code",
   "execution_count": 14,
   "metadata": {},
   "outputs": [],
   "source": [
    "prolactin = ['M','N','I','K','G','S','P','W',\n",
    "             'K','G','S','L','L','L','L','L',\n",
    "             'V','S','N','L','L','L','C','Q',\n",
    "             'S','V','A','P','L','P','I','C',\n",
    "             'P','G','G','A','A','R','C','Q',\n",
    "             'V','T','L','R','D','L','F','D',\n",
    "             'R','A','V','V','L','S','H','Y',\n",
    "             'I','H','N','L','S','S','E','M',\n",
    "             'F','S','E','F','D','K','R','Y',\n",
    "             'T','H','G','R','G','F','I','T',\n",
    "             'K','A','I','N','S','C','H','T',\n",
    "             'S','S','L','A','T','P','E','D',\n",
    "             'K','E','Q','A','Q','Q','M','N',\n",
    "             'Q','K','D','F','L','S','L','I',\n",
    "             'V','S','I','L','R','S','W','N',\n",
    "             'E','P','L','Y','H','L','V','T',\n",
    "             'E','V','R','G','M','Q','E','A',\n",
    "             'P','E','A','I','L','S','K','A',\n",
    "             'V','E','I','E','E','Q','T','K',\n",
    "             'R','L','L','E','G','M','E','L',\n",
    "             'I','V','S','Q','V','H','P','E',\n",
    "             'T','K','E','N','E','I','Y','P',\n",
    "             'V','W','S','G','L','P','S','L',\n",
    "             'Q','M','A','D','E','E','S','R',\n",
    "             'L','S','A','Y','Y','N','L','L',\n",
    "             'H','C','L','R','R','D','S','H',\n",
    "             'K','I','D','N','Y','L','K','L',\n",
    "             'L','K','C','R','I','I','H','N',\n",
    "             'N','N','C',]"
   ]
  },
  {
   "cell_type": "code",
   "execution_count": 77,
   "metadata": {},
   "outputs": [],
   "source": [
    "name_to_seq = {}\n",
    "with open('proteins.fasta') as file:\n",
    "    protopeptide = file.read()\n",
    "    \n",
    "    \n",
    "    for protein in protopeptide.split(\">\"):\n",
    "#         print(protein.replace('\\n',''))\n",
    "        splitted = protein.replace('\\n','').split(\"]\")\n",
    "        if (splitted[0]):\n",
    "            if (len(splitted) > 2):\n",
    "                name = splitted[0] + \"]\" + splitted[1] + \"]\"\n",
    "                seq = splitted[2]\n",
    "            else:\n",
    "                name = splitted[0]+\"]\"\n",
    "                seq = splitted[1]\n",
    "            \n",
    "            name_to_seq[name] = list(seq.replace('\\n','').replace(\" \", \"\"))\n"
   ]
  },
  {
   "cell_type": "code",
   "execution_count": 49,
   "metadata": {},
   "outputs": [],
   "source": []
  },
  {
   "cell_type": "code",
   "execution_count": null,
   "metadata": {},
   "outputs": [],
   "source": []
  },
  {
   "cell_type": "code",
   "execution_count": 84,
   "metadata": {},
   "outputs": [],
   "source": [
    "def k_homologs(reference_sequence, k, sequence_dict):\n",
    "    leven_dict = {}\n",
    "    for name in sequence_dict:\n",
    "        dist = levenshtein(reference_sequence, sequence_dict[name])\n",
    "        leven_dict[name] = dist\n",
    "    return leven_dict\n",
    "    "
   ]
  },
  {
   "cell_type": "code",
   "execution_count": 86,
   "metadata": {},
   "outputs": [],
   "source": [
    "leven_dict = k_homologs(prolactin, 10, name_to_seq)"
   ]
  },
  {
   "cell_type": "code",
   "execution_count": 97,
   "metadata": {},
   "outputs": [],
   "source": [
    "import pandas as pd\n",
    "homolog_df = pd.DataFrame.from_dict(leven_dict, 'index', ).sort_values(by=0)[:10].reset_index()\n",
    "homolog_df.columns = ['proteinName', 'levenshteinDistance']"
   ]
  },
  {
   "cell_type": "code",
   "execution_count": null,
   "metadata": {},
   "outputs": [],
   "source": []
  },
  {
   "cell_type": "markdown",
   "metadata": {},
   "source": [
    "## Step 2.1"
   ]
  },
  {
   "cell_type": "code",
   "execution_count": 96,
   "metadata": {},
   "outputs": [
    {
     "data": {
      "text/plain": [
       "208"
      ]
     },
     "execution_count": 96,
     "metadata": {},
     "output_type": "execute_result"
    }
   ],
   "source": [
    "levenshtein(prolactin, ['P','I','D','N',\n",
    "                        'Y','L','K','L','L',\n",
    "                        'K','C','R','I','I',\n",
    "                        'H','N','N','N','C'])"
   ]
  },
  {
   "cell_type": "code",
   "execution_count": 98,
   "metadata": {},
   "outputs": [
    {
     "data": {
      "text/html": [
       "<div>\n",
       "<table border=\"1\" class=\"dataframe\">\n",
       "  <thead>\n",
       "    <tr style=\"text-align: right;\">\n",
       "      <th></th>\n",
       "      <th>proteinName</th>\n",
       "      <th>levenshteinDistance</th>\n",
       "    </tr>\n",
       "  </thead>\n",
       "  <tbody>\n",
       "    <tr>\n",
       "      <th>0</th>\n",
       "      <td>NP_001157030.1 prolactin precursor [Homo sapiens]</td>\n",
       "      <td>0</td>\n",
       "    </tr>\n",
       "    <tr>\n",
       "      <th>1</th>\n",
       "      <td>XP_011513056.1 PREDICTED: prolactin isoform X1...</td>\n",
       "      <td>1</td>\n",
       "    </tr>\n",
       "    <tr>\n",
       "      <th>2</th>\n",
       "      <td>XP_011513055.1 PREDICTED: prolactin isoform X1...</td>\n",
       "      <td>1</td>\n",
       "    </tr>\n",
       "    <tr>\n",
       "      <th>3</th>\n",
       "      <td>XP_002816520.2 PREDICTED: prolactin [Pongo abe...</td>\n",
       "      <td>4</td>\n",
       "    </tr>\n",
       "    <tr>\n",
       "      <th>4</th>\n",
       "      <td>XP_012364516.1 PREDICTED: prolactin [Nomascus ...</td>\n",
       "      <td>6</td>\n",
       "    </tr>\n",
       "    <tr>\n",
       "      <th>5</th>\n",
       "      <td>XP_016810474.1 PREDICTED: prolactin isoform X2...</td>\n",
       "      <td>6</td>\n",
       "    </tr>\n",
       "    <tr>\n",
       "      <th>6</th>\n",
       "      <td>XP_009448859.1 PREDICTED: prolactin isoform X2...</td>\n",
       "      <td>6</td>\n",
       "    </tr>\n",
       "    <tr>\n",
       "      <th>7</th>\n",
       "      <td>XP_008975038.1 PREDICTED: prolactin [Pan panis...</td>\n",
       "      <td>6</td>\n",
       "    </tr>\n",
       "    <tr>\n",
       "      <th>8</th>\n",
       "      <td>XP_003263607.1 PREDICTED: prolactin [Nomascus ...</td>\n",
       "      <td>6</td>\n",
       "    </tr>\n",
       "    <tr>\n",
       "      <th>9</th>\n",
       "      <td>XP_009448858.1 PREDICTED: prolactin isoform X1...</td>\n",
       "      <td>7</td>\n",
       "    </tr>\n",
       "  </tbody>\n",
       "</table>\n",
       "</div>"
      ],
      "text/plain": [
       "                                         proteinName  levenshteinDistance\n",
       "0  NP_001157030.1 prolactin precursor [Homo sapiens]                    0\n",
       "1  XP_011513056.1 PREDICTED: prolactin isoform X1...                    1\n",
       "2  XP_011513055.1 PREDICTED: prolactin isoform X1...                    1\n",
       "3  XP_002816520.2 PREDICTED: prolactin [Pongo abe...                    4\n",
       "4  XP_012364516.1 PREDICTED: prolactin [Nomascus ...                    6\n",
       "5  XP_016810474.1 PREDICTED: prolactin isoform X2...                    6\n",
       "6  XP_009448859.1 PREDICTED: prolactin isoform X2...                    6\n",
       "7  XP_008975038.1 PREDICTED: prolactin [Pan panis...                    6\n",
       "8  XP_003263607.1 PREDICTED: prolactin [Nomascus ...                    6\n",
       "9  XP_009448858.1 PREDICTED: prolactin isoform X1...                    7"
      ]
     },
     "execution_count": 98,
     "metadata": {},
     "output_type": "execute_result"
    }
   ],
   "source": [
    "homolog_df"
   ]
  },
  {
   "cell_type": "code",
   "execution_count": null,
   "metadata": {},
   "outputs": [],
   "source": []
  }
 ],
 "metadata": {
  "kernelspec": {
   "display_name": "Python 3",
   "language": "python",
   "name": "python3"
  },
  "language_info": {
   "codemirror_mode": {
    "name": "ipython",
    "version": 3
   },
   "file_extension": ".py",
   "mimetype": "text/x-python",
   "name": "python",
   "nbconvert_exporter": "python",
   "pygments_lexer": "ipython3",
   "version": "3.6.4"
  }
 },
 "nbformat": 4,
 "nbformat_minor": 2
}
